{
 "cells": [
  {
   "cell_type": "markdown",
   "metadata": {
    "id": "s_qNSzzyaCbD"
   },
   "source": [
    "##### Copyright 2019 The TensorFlow Authors."
   ]
  },
  {
   "cell_type": "code",
   "execution_count": 1,
   "metadata": {
    "cellView": "form",
    "id": "jmjh290raIky"
   },
   "outputs": [],
   "source": [
    "#@title Licensed under the Apache License, Version 2.0 (the \"License\");\n",
    "# you may not use this file except in compliance with the License.\n",
    "# You may obtain a copy of the License at\n",
    "#\n",
    "# https://www.apache.org/licenses/LICENSE-2.0\n",
    "#\n",
    "# Unless required by applicable law or agreed to in writing, software\n",
    "# distributed under the License is distributed on an \"AS IS\" BASIS,\n",
    "# WITHOUT WARRANTIES OR CONDITIONS OF ANY KIND, either express or implied.\n",
    "# See the License for the specific language governing permissions and\n",
    "# limitations under the License."
   ]
  },
  {
   "cell_type": "markdown",
   "metadata": {
    "id": "J0Qjg6vuaHNt"
   },
   "source": [
    "# Neural machine translation with attention"
   ]
  },
  {
   "cell_type": "markdown",
   "metadata": {
    "id": "AOpGoE2T-YXS"
   },
   "source": [
    "<table class=\"tfo-notebook-buttons\" align=\"left\">\n",
    "  <td>\n",
    "    <a target=\"_blank\" href=\"https://www.tensorflow.org/text/tutorials/nmt_with_attention\">\n",
    "    <img src=\"https://www.tensorflow.org/images/tf_logo_32px.png\" />\n",
    "    View on TensorFlow.org</a>\n",
    "  </td>\n",
    "  <td>\n",
    "    <a target=\"_blank\" href=\"https://colab.research.google.com/github/tensorflow/text/blob/master/docs/tutorials/nmt_with_attention.ipynb\">\n",
    "    <img src=\"https://www.tensorflow.org/images/colab_logo_32px.png\" />\n",
    "    Run in Google Colab</a>\n",
    "  </td>\n",
    "  <td>\n",
    "    <a target=\"_blank\" href=\"https://github.com/tensorflow/text/blob/master/docs/tutorials/nmt_with_attention.ipynb\">\n",
    "    <img src=\"https://www.tensorflow.org/images/GitHub-Mark-32px.png\" />\n",
    "    View source on GitHub</a>\n",
    "  </td>\n",
    "  <td>\n",
    "    <a href=\"https://storage.googleapis.com/tensorflow_docs/text/docs/tutorials/nmt_with_attention.ipynb\"><img src=\"https://www.tensorflow.org/images/download_logo_32px.png\" />Download notebook</a>\n",
    "  </td>\n",
    "</table>"
   ]
  },
  {
   "cell_type": "markdown",
   "metadata": {
    "id": "Xh8WNEwYA3BW"
   },
   "source": [
    "This tutorial demonstrates how to train a sequence-to-sequence (seq2seq) model for Spanish-to-English translation roughly based on [Effective Approaches to Attention-based Neural Machine Translation](https://arxiv.org/abs/1508.04025v5) (Luong et al., 2015). \n",
    "\n",
    "<table>\n",
    "<tr>\n",
    "  <td>\n",
    "   <img width=400 src=\"https://www.tensorflow.org/images/tutorials/transformer/RNN%2Battention-words-spa.png\"/>\n",
    "  </td>\n",
    "</tr>\n",
    "<tr>\n",
    "  <th colspan=1>This tutorial: An encoder/decoder connected by attention.</th>\n",
    "<tr>\n",
    "</table>\n",
    "\n",
    "While this architecture is somewhat outdated, it is still a very useful project to work through to get a deeper understanding of sequence-to-sequence models and attention mechanisms (before going on to [Transformers](transformer.ipynb))."
   ]
  },
  {
   "cell_type": "markdown",
   "metadata": {
    "id": "CiwtNgENbx2g"
   },
   "source": [
    "\n",
    "\n",
    "This example assumes some knowledge of TensorFlow fundamentals below the level of a Keras layer:\n",
    "  * [Working with tensors](https://www.tensorflow.org/guide/tensor) directly\n",
    "  * [Writing custom `keras.Model`s and `keras.layers`](https://www.tensorflow.org/guide/keras/custom_layers_and_models)\n",
    "\n",
    "After training the model in this notebook, you will be able to input a Spanish sentence, such as \"*¿todavia estan en casa?*\", and return the English translation: \"*are you still at home?*\"\n",
    "\n",
    "The resulting model is exportable as a `tf.saved_model`, so it can be used in other TensorFlow environments.\n",
    "\n",
    "The translation quality is reasonable for a toy example, but the generated attention plot is perhaps more interesting. This shows which parts of the input sentence has the model's attention while translating:\n",
    "\n",
    "<img src=\"https://tensorflow.org/images/spanish-english.png\" alt=\"spanish-english attention plot\">\n",
    "\n",
    "Note: This example takes approximately 10 minutes to run."
   ]
  },
  {
   "cell_type": "markdown",
   "metadata": {
    "id": "yAmSR1FaqKrl"
   },
   "source": [
    "## Setup"
   ]
  },
  {
   "cell_type": "code",
   "execution_count": 2,
   "metadata": {
    "id": "DGFTkuRvzWqc"
   },
   "outputs": [
    {
     "name": "stdout",
     "output_type": "stream",
     "text": [
      "Requirement already satisfied: tensorflow-text in /Users/danielchan/miniconda3/lib/python3.11/site-packages (2.17.0rc0)\n",
      "Requirement already satisfied: tensorflow<2.17,>=2.16.1 in /Users/danielchan/miniconda3/lib/python3.11/site-packages (from tensorflow-text) (2.16.2)\n",
      "Requirement already satisfied: absl-py>=1.0.0 in /Users/danielchan/miniconda3/lib/python3.11/site-packages (from tensorflow<2.17,>=2.16.1->tensorflow-text) (2.1.0)\n",
      "Requirement already satisfied: astunparse>=1.6.0 in /Users/danielchan/miniconda3/lib/python3.11/site-packages (from tensorflow<2.17,>=2.16.1->tensorflow-text) (1.6.3)\n",
      "Requirement already satisfied: flatbuffers>=23.5.26 in /Users/danielchan/miniconda3/lib/python3.11/site-packages (from tensorflow<2.17,>=2.16.1->tensorflow-text) (24.3.25)\n",
      "Requirement already satisfied: gast!=0.5.0,!=0.5.1,!=0.5.2,>=0.2.1 in /Users/danielchan/miniconda3/lib/python3.11/site-packages (from tensorflow<2.17,>=2.16.1->tensorflow-text) (0.6.0)\n",
      "Requirement already satisfied: google-pasta>=0.1.1 in /Users/danielchan/miniconda3/lib/python3.11/site-packages (from tensorflow<2.17,>=2.16.1->tensorflow-text) (0.2.0)\n",
      "Requirement already satisfied: h5py>=3.10.0 in /Users/danielchan/miniconda3/lib/python3.11/site-packages (from tensorflow<2.17,>=2.16.1->tensorflow-text) (3.11.0)\n",
      "Requirement already satisfied: libclang>=13.0.0 in /Users/danielchan/miniconda3/lib/python3.11/site-packages (from tensorflow<2.17,>=2.16.1->tensorflow-text) (18.1.1)\n",
      "Requirement already satisfied: ml-dtypes~=0.3.1 in /Users/danielchan/miniconda3/lib/python3.11/site-packages (from tensorflow<2.17,>=2.16.1->tensorflow-text) (0.3.2)\n",
      "Requirement already satisfied: opt-einsum>=2.3.2 in /Users/danielchan/miniconda3/lib/python3.11/site-packages (from tensorflow<2.17,>=2.16.1->tensorflow-text) (3.3.0)\n",
      "Requirement already satisfied: packaging in /Users/danielchan/miniconda3/lib/python3.11/site-packages (from tensorflow<2.17,>=2.16.1->tensorflow-text) (23.0)\n",
      "Requirement already satisfied: protobuf!=4.21.0,!=4.21.1,!=4.21.2,!=4.21.3,!=4.21.4,!=4.21.5,<5.0.0dev,>=3.20.3 in /Users/danielchan/miniconda3/lib/python3.11/site-packages (from tensorflow<2.17,>=2.16.1->tensorflow-text) (4.25.3)\n",
      "Requirement already satisfied: requests<3,>=2.21.0 in /Users/danielchan/miniconda3/lib/python3.11/site-packages (from tensorflow<2.17,>=2.16.1->tensorflow-text) (2.29.0)\n",
      "Requirement already satisfied: setuptools in /Users/danielchan/miniconda3/lib/python3.11/site-packages (from tensorflow<2.17,>=2.16.1->tensorflow-text) (67.8.0)\n",
      "Requirement already satisfied: six>=1.12.0 in /Users/danielchan/miniconda3/lib/python3.11/site-packages (from tensorflow<2.17,>=2.16.1->tensorflow-text) (1.16.0)\n",
      "Requirement already satisfied: termcolor>=1.1.0 in /Users/danielchan/miniconda3/lib/python3.11/site-packages (from tensorflow<2.17,>=2.16.1->tensorflow-text) (2.4.0)\n",
      "Requirement already satisfied: typing-extensions>=3.6.6 in /Users/danielchan/miniconda3/lib/python3.11/site-packages (from tensorflow<2.17,>=2.16.1->tensorflow-text) (4.7.1)\n",
      "Requirement already satisfied: wrapt>=1.11.0 in /Users/danielchan/miniconda3/lib/python3.11/site-packages (from tensorflow<2.17,>=2.16.1->tensorflow-text) (1.16.0)\n",
      "Requirement already satisfied: grpcio<2.0,>=1.24.3 in /Users/danielchan/miniconda3/lib/python3.11/site-packages (from tensorflow<2.17,>=2.16.1->tensorflow-text) (1.64.1)\n",
      "Requirement already satisfied: tensorboard<2.17,>=2.16 in /Users/danielchan/miniconda3/lib/python3.11/site-packages (from tensorflow<2.17,>=2.16.1->tensorflow-text) (2.16.2)\n",
      "Requirement already satisfied: keras>=3.0.0 in /Users/danielchan/miniconda3/lib/python3.11/site-packages (from tensorflow<2.17,>=2.16.1->tensorflow-text) (3.4.1)\n",
      "Requirement already satisfied: tensorflow-io-gcs-filesystem>=0.23.1 in /Users/danielchan/miniconda3/lib/python3.11/site-packages (from tensorflow<2.17,>=2.16.1->tensorflow-text) (0.37.0)\n",
      "Requirement already satisfied: numpy<2.0.0,>=1.23.5 in /Users/danielchan/miniconda3/lib/python3.11/site-packages (from tensorflow<2.17,>=2.16.1->tensorflow-text) (1.25.2)\n",
      "Requirement already satisfied: wheel<1.0,>=0.23.0 in /Users/danielchan/miniconda3/lib/python3.11/site-packages (from astunparse>=1.6.0->tensorflow<2.17,>=2.16.1->tensorflow-text) (0.38.4)\n",
      "Requirement already satisfied: rich in /Users/danielchan/miniconda3/lib/python3.11/site-packages (from keras>=3.0.0->tensorflow<2.17,>=2.16.1->tensorflow-text) (13.7.1)\n",
      "Requirement already satisfied: namex in /Users/danielchan/miniconda3/lib/python3.11/site-packages (from keras>=3.0.0->tensorflow<2.17,>=2.16.1->tensorflow-text) (0.0.8)\n",
      "Requirement already satisfied: optree in /Users/danielchan/miniconda3/lib/python3.11/site-packages (from keras>=3.0.0->tensorflow<2.17,>=2.16.1->tensorflow-text) (0.11.0)\n",
      "Requirement already satisfied: charset-normalizer<4,>=2 in /Users/danielchan/miniconda3/lib/python3.11/site-packages (from requests<3,>=2.21.0->tensorflow<2.17,>=2.16.1->tensorflow-text) (2.0.4)\n",
      "Requirement already satisfied: idna<4,>=2.5 in /Users/danielchan/miniconda3/lib/python3.11/site-packages (from requests<3,>=2.21.0->tensorflow<2.17,>=2.16.1->tensorflow-text) (3.4)\n",
      "Requirement already satisfied: urllib3<1.27,>=1.21.1 in /Users/danielchan/miniconda3/lib/python3.11/site-packages (from requests<3,>=2.21.0->tensorflow<2.17,>=2.16.1->tensorflow-text) (1.26.16)\n",
      "Requirement already satisfied: certifi>=2017.4.17 in /Users/danielchan/miniconda3/lib/python3.11/site-packages (from requests<3,>=2.21.0->tensorflow<2.17,>=2.16.1->tensorflow-text) (2023.7.22)\n",
      "Requirement already satisfied: markdown>=2.6.8 in /Users/danielchan/miniconda3/lib/python3.11/site-packages (from tensorboard<2.17,>=2.16->tensorflow<2.17,>=2.16.1->tensorflow-text) (3.6)\n",
      "Requirement already satisfied: tensorboard-data-server<0.8.0,>=0.7.0 in /Users/danielchan/miniconda3/lib/python3.11/site-packages (from tensorboard<2.17,>=2.16->tensorflow<2.17,>=2.16.1->tensorflow-text) (0.7.2)\n",
      "Requirement already satisfied: werkzeug>=1.0.1 in /Users/danielchan/miniconda3/lib/python3.11/site-packages (from tensorboard<2.17,>=2.16->tensorflow<2.17,>=2.16.1->tensorflow-text) (3.0.3)\n",
      "Requirement already satisfied: MarkupSafe>=2.1.1 in /Users/danielchan/miniconda3/lib/python3.11/site-packages (from werkzeug>=1.0.1->tensorboard<2.17,>=2.16->tensorflow<2.17,>=2.16.1->tensorflow-text) (2.1.1)\n",
      "Requirement already satisfied: markdown-it-py>=2.2.0 in /Users/danielchan/miniconda3/lib/python3.11/site-packages (from rich->keras>=3.0.0->tensorflow<2.17,>=2.16.1->tensorflow-text) (3.0.0)\n",
      "Requirement already satisfied: pygments<3.0.0,>=2.13.0 in /Users/danielchan/miniconda3/lib/python3.11/site-packages (from rich->keras>=3.0.0->tensorflow<2.17,>=2.16.1->tensorflow-text) (2.16.1)\n",
      "Requirement already satisfied: mdurl~=0.1 in /Users/danielchan/miniconda3/lib/python3.11/site-packages (from markdown-it-py>=2.2.0->rich->keras>=3.0.0->tensorflow<2.17,>=2.16.1->tensorflow-text) (0.1.2)\n",
      "Requirement already satisfied: einops in /Users/danielchan/miniconda3/lib/python3.11/site-packages (0.8.0)\n"
     ]
    }
   ],
   "source": [
    "!pip install \"tensorflow-text\"\n",
    "!pip install einops"
   ]
  },
  {
   "cell_type": "code",
   "execution_count": 3,
   "metadata": {},
   "outputs": [
    {
     "name": "stdout",
     "output_type": "stream",
     "text": [
      "Requirement already satisfied: matplotlib in /Users/danielchan/miniconda3/lib/python3.11/site-packages (3.9.0)\n",
      "Requirement already satisfied: contourpy>=1.0.1 in /Users/danielchan/miniconda3/lib/python3.11/site-packages (from matplotlib) (1.2.1)\n",
      "Requirement already satisfied: cycler>=0.10 in /Users/danielchan/miniconda3/lib/python3.11/site-packages (from matplotlib) (0.12.1)\n",
      "Requirement already satisfied: fonttools>=4.22.0 in /Users/danielchan/miniconda3/lib/python3.11/site-packages (from matplotlib) (4.53.0)\n",
      "Requirement already satisfied: kiwisolver>=1.3.1 in /Users/danielchan/miniconda3/lib/python3.11/site-packages (from matplotlib) (1.4.5)\n",
      "Requirement already satisfied: numpy>=1.23 in /Users/danielchan/miniconda3/lib/python3.11/site-packages (from matplotlib) (1.25.2)\n",
      "Requirement already satisfied: packaging>=20.0 in /Users/danielchan/miniconda3/lib/python3.11/site-packages (from matplotlib) (23.0)\n",
      "Requirement already satisfied: pillow>=8 in /Users/danielchan/miniconda3/lib/python3.11/site-packages (from matplotlib) (9.4.0)\n",
      "Requirement already satisfied: pyparsing>=2.3.1 in /Users/danielchan/miniconda3/lib/python3.11/site-packages (from matplotlib) (3.1.2)\n",
      "Requirement already satisfied: python-dateutil>=2.7 in /Users/danielchan/miniconda3/lib/python3.11/site-packages (from matplotlib) (2.8.2)\n",
      "Requirement already satisfied: six>=1.5 in /Users/danielchan/miniconda3/lib/python3.11/site-packages (from python-dateutil>=2.7->matplotlib) (1.16.0)\n"
     ]
    }
   ],
   "source": [
    "!pip install matplotlib"
   ]
  },
  {
   "cell_type": "code",
   "execution_count": 4,
   "metadata": {
    "id": "tnxXKDjq3jEL"
   },
   "outputs": [],
   "source": [
    "import numpy as np\n",
    "import re\n",
    "\n",
    "import typing\n",
    "from typing import Any, Tuple\n",
    "\n",
    "import einops\n",
    "import matplotlib.pyplot as plt\n",
    "import matplotlib.ticker as ticker\n",
    "\n",
    "import tensorflow as tf\n",
    "import tensorflow_text as tf_text"
   ]
  },
  {
   "cell_type": "markdown",
   "metadata": {
    "id": "l_yq8kvIqoqQ"
   },
   "source": [
    "This tutorial uses a lot of low level API's where it's easy to get shapes wrong. This class is used to check shapes throughout the tutorial.\n"
   ]
  },
  {
   "cell_type": "code",
   "execution_count": 5,
   "metadata": {
    "id": "KqFqKi4fqN9X"
   },
   "outputs": [],
   "source": [
    "#@title\n",
    "class ShapeChecker():\n",
    "  def __init__(self):\n",
    "    # Keep a cache of every axis-name seen\n",
    "    self.shapes = {}\n",
    "\n",
    "  def __call__(self, tensor, names, broadcast=False):\n",
    "    if not tf.executing_eagerly():\n",
    "      return\n",
    "\n",
    "    parsed = einops.parse_shape(tensor, names)\n",
    "\n",
    "    for name, new_dim in parsed.items():\n",
    "      old_dim = self.shapes.get(name, None)\n",
    "      \n",
    "      if (broadcast and new_dim == 1):\n",
    "        continue\n",
    "\n",
    "      if old_dim is None:\n",
    "        # If the axis name is new, add its length to the cache.\n",
    "        self.shapes[name] = new_dim\n",
    "        continue\n",
    "\n",
    "      if new_dim != old_dim:\n",
    "        raise ValueError(f\"Shape mismatch for dimension: '{name}'\\n\"\n",
    "                         f\"    found: {new_dim}\\n\"\n",
    "                         f\"    expected: {old_dim}\\n\")"
   ]
  },
  {
   "cell_type": "markdown",
   "metadata": {
    "id": "gjUROhJfH3ML"
   },
   "source": [
    "## The data"
   ]
  },
  {
   "cell_type": "markdown",
   "metadata": {
    "id": "puE_K74DIE9W"
   },
   "source": [
    "The tutorial uses a language dataset provided by [Anki](http://www.manythings.org/anki/). This dataset contains language translation pairs in the format:\n",
    "\n",
    "```\n",
    "May I borrow this book?\t¿Puedo tomar prestado este libro?\n",
    "```\n",
    "\n",
    "They have a variety of languages available, but this example uses the English-Spanish dataset."
   ]
  },
  {
   "cell_type": "markdown",
   "metadata": {
    "id": "wfodePkj3jEa"
   },
   "source": [
    "### Download and prepare the dataset\n",
    "\n",
    "For convenience, a copy of this dataset is hosted on Google Cloud, but you can also download your own copy. After downloading the dataset, here are the steps you need to take to prepare the data:\n",
    "\n",
    "1. Add a *start* and *end* token to each sentence.\n",
    "2. Clean the sentences by removing special characters.\n",
    "3. Create a word index and reverse word index (dictionaries mapping from word → id and id → word).\n",
    "4. Pad each sentence to a maximum length."
   ]
  },
  {
   "cell_type": "code",
   "execution_count": 116,
   "metadata": {
    "id": "kRVATYOgJs1b"
   },
   "outputs": [],
   "source": [
    "# Download the file\n",
    "import pathlib\n",
    "\n",
    "local_path = 'furigana_training_data.txt'\n",
    "path_to_file = pathlib.Path(local_path)"
   ]
  },
  {
   "cell_type": "code",
   "execution_count": 117,
   "metadata": {
    "id": "OHn4Dct23jEm"
   },
   "outputs": [],
   "source": [
    "def load_data(path):\n",
    "  text = path.read_text(encoding='utf-8')\n",
    "\n",
    "  lines = text.splitlines()\n",
    "  pairs = [line.split('|') for line in lines]\n",
    "\n",
    "  context = np.array([context for target, context in pairs])\n",
    "  target = np.array([target for target, context in pairs])\n",
    "\n",
    "  return target, context"
   ]
  },
  {
   "cell_type": "code",
   "execution_count": 121,
   "metadata": {},
   "outputs": [
    {
     "name": "stdout",
     "output_type": "stream",
     "text": [
      "で日本語大辞典よマンモス像から統計的ばらつきと東邦亜鉛株式会社を互いよ仁侠に真ダニまでイベント会場ね前人未踏から気配に真澄鏡や燈籠や徒刑から西大千鳥ね経ね婆ちゃん子の新妻よ前面展望ね古文書がひし形か革縅を代休を盛り土は然う然うか胴体が飼い葉おけやシングルＩＴハブや銀行へ地震空白域も千編一律ね鼓笛隊で噛みちぎるは慮るから\n"
     ]
    }
   ],
   "source": [
    "context_raw, target_raw = load_data(path_to_file)\n",
    "print(context_raw[-1])"
   ]
  },
  {
   "cell_type": "code",
   "execution_count": 122,
   "metadata": {
    "id": "lH_dPY8TRp3c"
   },
   "outputs": [
    {
     "name": "stdout",
     "output_type": "stream",
     "text": [
      "でにほんごだいじてんよマンモスぞうからとうけいてきばらつきととうほうあえんかぶしきがいしゃをたがいよにんきょうにまダニまでイベントかいじょうねぜんじんみとうからきはいにまそかがみやとうろうやとけいからにしおおちどりねきょうねばあちゃんこのにいづまよぜんめんてんぼうねこもんじょがひしがたかかわおどしをだいきゅうをもりどはそうそうかどうたいがかいばおけやシングルアイティーハブやぎんこうへじしんくうはくいきもせんぺんいちりつねこてきたいでかみちぎるはおもんばかるから\n"
     ]
    }
   ],
   "source": [
    "print(target_raw[-1])"
   ]
  },
  {
   "cell_type": "markdown",
   "metadata": {
    "id": "rgCLkfv5uO3d"
   },
   "source": [
    "### Create a tf.data dataset"
   ]
  },
  {
   "cell_type": "markdown",
   "metadata": {
    "id": "PfVWx3WaI5Df"
   },
   "source": [
    "From these arrays of strings you can create a `tf.data.Dataset` of strings that shuffles and batches them efficiently:"
   ]
  },
  {
   "cell_type": "code",
   "execution_count": 123,
   "metadata": {
    "id": "3rZFgz69nMPa"
   },
   "outputs": [],
   "source": [
    "BUFFER_SIZE = len(context_raw)\n",
    "BATCH_SIZE = 64\n",
    "\n",
    "is_train = np.random.uniform(size=(len(target_raw),)) < 0.8\n",
    "\n",
    "train_raw = (\n",
    "    tf.data.Dataset\n",
    "    .from_tensor_slices((context_raw[is_train], target_raw[is_train]))\n",
    "    .shuffle(BUFFER_SIZE)\n",
    "    .batch(BATCH_SIZE))\n",
    "val_raw = (\n",
    "    tf.data.Dataset\n",
    "    .from_tensor_slices((context_raw[~is_train], target_raw[~is_train]))\n",
    "    .shuffle(BUFFER_SIZE)\n",
    "    .batch(BATCH_SIZE))"
   ]
  },
  {
   "cell_type": "code",
   "execution_count": 124,
   "metadata": {},
   "outputs": [
    {
     "data": {
      "text/plain": [
       "array([ True,  True,  True, ...,  True,  True,  True])"
      ]
     },
     "execution_count": 124,
     "metadata": {},
     "output_type": "execute_result"
    }
   ],
   "source": [
    "is_train"
   ]
  },
  {
   "cell_type": "code",
   "execution_count": 125,
   "metadata": {
    "id": "qc6-NK1GtWQt"
   },
   "outputs": [
    {
     "name": "stdout",
     "output_type": "stream",
     "text": [
      "tf.Tensor(\n",
      "[b'\\xe3\\x81\\xab\\xe8\\xa1\\x97\\xe4\\xb8\\xa6\\xe3\\x81\\xad\\xe5\\xa4\\xaa\\xe9\\x99\\xbd\\xe9\\xb3\\xa5\\xe3\\x81\\xaa\\xe3\\x82\\xb3\\xe3\\x83\\x8f\\xe3\\x82\\xaf\\xe9\\x85\\xb8\\xe3\\x82\\x82\\xe8\\xbe\\xbb\\xe7\\x95\\xaa\\xe3\\x81\\xa8\\xe6\\x8a\\xb9\\xe8\\x8c\\xb6\\xe5\\xa1\\xa9\\xe3\\x81\\xa7\\xe4\\xb8\\x83\\xe3\\x80\\x87\\xe3\\x80\\x87\\xe3\\x80\\x87\\xe3\\x81\\xa8\\xe7\\xac\\x91\\xe3\\x81\\x84\\xe3\\x82\\xb8\\xe3\\x83\\xaf\\xe3\\x81\\x8c\\xe4\\xbd\\x95\\xe3\\x81\\xa8\\xe3\\x81\\xaa\\xe3\\x81\\x8f\\xe3\\x81\\xa7\\xe6\\x9d\\xb1\\xe5\\xb1\\xb1\\xe6\\x99\\x82\\xe4\\xbb\\xa3\\xe3\\x81\\xad\\xe5\\x8f\\x96\\xe3\\x82\\x8a\\xe8\\xaa\\xac\\xe3\\x81\\x8c\\xe4\\xbb\\x98\\xe4\\xba\\xba\\xe3\\x81\\xae\\xe7\\x89\\xb9\\xe5\\x88\\xa5\\xe7\\xa0\\x94\\xe7\\xa9\\xb6\\xe5\\x93\\xa1\\xe3\\x81\\xbe\\xe3\\x81\\xa7\\xe5\\xaf\\x9d\\xe4\\xbb\\x98\\xe3\\x81\\x8d\\xe3\\x81\\xae\\xe8\\x89\\xaf\\xe3\\x81\\x84\\xe3\\x82\\x88\\xe5\\xb2\\xa9\\xe6\\xb2\\xa2\\xe7\\x80\\x89\\xe3\\x81\\xaa\\xe4\\xb9\\x97\\xe3\\x82\\x8a\\xe7\\x9d\\x80\\xe3\\x81\\x91\\xe3\\x82\\x8b\\xe3\\x81\\xa8\\xe6\\xb0\\x97\\xe8\\xb1\\xa1\\xe3\\x83\\xac\\xe3\\x83\\xbc\\xe3\\x83\\x80\\xe3\\x83\\xbc\\xe3\\x81\\xaf\\xe3\\x81\\xaa\\xe3\\x81\\x9a\\xe3\\x82\\x89\\xe3\\x81\\x88\\xe6\\xad\\x8c\\xe3\\x81\\xad\\xe3\\x82\\x8f\\xe3\\x82\\x93\\xe3\\x82\\x8f\\xe3\\x82\\x93\\xe7\\x89\\xa9\\xe8\\xaa\\x9e\\xe3\\x82\\x84\\xe9\\xa4\\x85\\xe9\\xba\\xa6\\xe3\\x81\\xab\\xe9\\x9b\\xa8\\xe5\\xbe\\x8c\\xe3\\x81\\xae\\xe3\\x82\\xbf\\xe3\\x82\\xb1\\xe3\\x83\\x8e\\xe3\\x82\\xb3\\xe3\\x81\\xad\\xe5\\x85\\x88\\xe7\\x89\\xa9\\xe3\\x82\\xaa\\xe3\\x83\\x97\\xe3\\x82\\xb7\\xe3\\x83\\xa7\\xe3\\x83\\xb3\\xe3\\x81\\xaf\\xe5\\xad\\x98\\xe3\\x81\\x98\\xe4\\xb8\\x8a\\xe3\\x81\\x92\\xe3\\x82\\x8b\\xe3\\x81\\x8b\\xe3\\x82\\x89\\xe3\\x81\\xa8\\xe3\\x82\\x8a\\xe3\\x81\\xa4\\xe3\\x81\\x8f\\xe5\\xb3\\xb6\\xe3\\x81\\x8c\\xe3\\x81\\xaa\\xe3\\x81\\x84\\xe3\\x81\\xa7'\n",
      " b'\\xe3\\x81\\xa8\\xe5\\xa4\\x9a\\xe7\\x92\\xb0\\xe8\\x8a\\xb3\\xe9\\xa6\\x99\\xe6\\x97\\x8f\\xe7\\x82\\xad\\xe5\\x8c\\x96\\xe6\\xb0\\xb4\\xe7\\xb4\\xa0\\xe3\\x81\\xab\\xe6\\x9a\\x97\\xe6\\xae\\xba\\xe6\\x9c\\xaa\\xe9\\x81\\x82\\xe3\\x81\\x8c\\xe6\\xa1\\x81\\xe3\\x81\\x82\\xe3\\x81\\xb5\\xe3\\x82\\x8c\\xe3\\x81\\xa7\\xe5\\x85\\xa5\\xe5\\x8a\\x9b\\xe6\\x96\\x87\\xe3\\x81\\xab\\xe9\\x99\\xaa\\xe8\\x86\\xb3\\xe3\\x81\\xad\\xe5\\xbc\\xbe\\xe3\\x81\\x8d\\xe3\\x81\\xa0\\xe3\\x81\\x99\\xe3\\x81\\xaa\\xe3\\x81\\x8a\\xe3\\x82\\x8a\\xe8\\xbf\\x94\\xe3\\x81\\x99\\xe3\\x81\\xaa\\xe6\\x91\\xa9\\xe5\\xb0\\xbc\\xe7\\x8f\\xa0\\xe3\\x81\\xaa\\xe4\\xb8\\x91\\xe4\\xb8\\x89\\xe6\\x99\\x82\\xe3\\x81\\xaf\\xe9\\x9b\\xaa\\xe8\\xbe\\xb1\\xe3\\x82\\x88\\xe5\\x8b\\xbe\\xe9\\x85\\x8d\\xe3\\x81\\xa7\\xe5\\x89\\x8d\\xe6\\x96\\xb9\\xe5\\x86\\x8d\\xe8\\xa3\\x9c\\xe7\\xb5\\xa6\\xe7\\x82\\xb9\\xe3\\x81\\xa8\\xe7\\x9b\\xb4\\xe6\\xaf\\x98\\xe7\\xa5\\x9e\\xe3\\x82\\x84\\xe7\\xa9\\xba\\xe6\\x89\\x8b\\xe5\\xbd\\xa2\\xe3\\x81\\x8b\\xe3\\x82\\x89\\xe6\\xb5\\x85\\xe3\\x81\\x84\\xe3\\x81\\xaf\\xe8\\x90\\x8c\\xe3\\x81\\x88\\xe3\\x81\\xa0\\xe3\\x81\\x99\\xe3\\x81\\xab\\xe5\\x8f\\x97\\xe8\\x8b\\xa6\\xe5\\x9c\\x8f\\xe3\\x81\\xa8\\xe7\\x99\\xbd\\xe7\\xb4\\x99\\xe3\\x82\\x82\\xe3\\x81\\x8b\\xe3\\x81\\xa4\\xe3\\x81\\x8e\\xe5\\xb1\\x8b\\xe3\\x82\\x92'\n",
      " b'\\xe3\\x81\\xab\\xe6\\x89\\x93\\xe3\\x81\\xa4\\xe3\\x81\\x8b\\xe3\\x82\\x8a\\xe5\\x90\\x88\\xe3\\x81\\x86\\xe3\\x81\\x8b\\xe3\\x82\\x89\\xe6\\x98\\xa5\\xe9\\x9b\\xaa\\xe3\\x82\\x88\\xe7\\x8d\\xb2\\xe5\\xbe\\x97\\xe5\\x85\\x8d\\xe7\\x96\\xab\\xe3\\x82\\x84\\xe6\\xaf\\x94\\xe5\\x86\\x85\\xe5\\x9c\\xb0\\xe9\\xb6\\x8f\\xe3\\x81\\x8b\\xe3\\x82\\x89\\xe5\\x92\\x8c\\xe3\\x81\\x88\\xe3\\x82\\x8b\\xe3\\x81\\x8b\\xe9\\xb3\\xb6\\xe3\\x81\\xae\\xe8\\x80\\x85\\xe3\\x81\\xa8\\xe8\\xb7\\xb3\\xe6\\xba\\x80\\xe3\\x81\\xab\\xe6\\x9e\\x9d\\xe8\\xb1\\x86\\xe8\\xb1\\x86\\xe8\\x85\\x90\\xe3\\x81\\xaf\\xe3\\x83\\x9f\\xe3\\x82\\xaf\\xe3\\x82\\xbd\\xe3\\x82\\xbe\\xe3\\x82\\xa2\\xe9\\x96\\x80\\xe3\\x81\\xa7\\xe4\\xbb\\x8f\\xe5\\x9b\\xb3\\xe3\\x81\\xaf\\xe3\\x81\\xbb\\xe3\\x81\\xbb\\xe7\\xac\\x91\\xe3\\x82\\x80\\xe3\\x82\\x84\\xe5\\x86\\x92\\xe9\\xa0\\xad\\xe9\\x99\\xb3\\xe8\\xbf\\xb0\\xe3\\x81\\xab\\xe4\\xba\\x8b\\xe5\\x89\\x8d\\xe9\\x81\\x8b\\xe5\\x8b\\x95\\xe3\\x81\\xa7\\xe3\\x83\\x92\\xe3\\x83\\x9e\\xe3\\x83\\xa9\\xe3\\x83\\xa4\\xe9\\x9b\\xaa\\xe3\\x81\\xae\\xe4\\xb8\\x8b\\xe3\\x81\\x8c\\xe8\\x82\\x89\\xe8\\xa5\\xa6\\xe8\\xa2\\xa2\\xe3\\x81\\xad\\xe5\\x82\\xac\\xe3\\x81\\x97\\xe7\\x89\\xa9\\xe3\\x82\\x92\\xe5\\x87\\xba\\xe6\\x8f\\x83\\xe3\\x81\\x86\\xe3\\x81\\xb8\\xe7\\xa5\\x9e\\xe3\\x81\\xae\\xe5\\xbe\\xa1\\xe5\\xad\\x90\\xe3\\x81\\xa7\\xe9\\x81\\xa9\\xe5\\x9c\\xb0\\xe9\\x81\\xa9\\xe4\\xbd\\x9c\\xe3\\x81\\xad\\xe5\\x80\\x8b\\xe4\\xba\\xba\\xe5\\xba\\x83\\xe5\\x91\\x8a\\xe3\\x82\\x84\\xe5\\xa4\\xaa\\xe5\\x85\\x86\\xe3\\x81\\xaa'\n",
      " b'\\xe3\\x82\\x92\\xe7\\x8b\\xac\\xe9\\x80\\xb8\\xe3\\x81\\x8c\\xe4\\xbb\\xa3\\xe8\\xa8\\x80\\xe8\\x80\\x85\\xe3\\x81\\xbe\\xe3\\x81\\xa7\\xe5\\xae\\xa3\\xe4\\xbc\\x9d\\xe5\\xb7\\xa5\\xe4\\xbd\\x9c\\xe3\\x81\\xae\\xe7\\xad\\x86\\xe5\\xa1\\x9a\\xe3\\x81\\xbe\\xe3\\x81\\xa7\\xe6\\xb7\\xb7\\xe5\\x92\\x8c\\xe6\\x80\\xa7\\xe3\\x81\\x8b\\xe9\\x81\\xba\\xe5\\xb0\\xbf\\xe7\\x97\\x87\\xe3\\x81\\x8b\\xe5\\x9e\\x82\\xe3\\x82\\x8c\\xe6\\xa1\\x9c\\xe3\\x81\\xab\\xe4\\xb8\\x89\\xe8\\xa7\\x92\\xe7\\xb8\\x81\\xe7\\xa5\\x9e\\xe7\\x8d\\xa3\\xe9\\x8f\\xa1\\xe3\\x81\\xa7\\xe5\\xbc\\x97\\xe9\\x85\\xb8\\xe3\\x81\\xa8\\xe5\\xae\\x9a\\xe6\\x9c\\x9f\\xe9\\xa0\\x90\\xe9\\x87\\x91\\xe3\\x81\\x8b\\xe3\\x82\\x89\\xe4\\xb8\\x87\\xe4\\xba\\xba\\xe5\\x90\\x91\\xe3\\x81\\x91\\xe3\\x81\\x8b\\xef\\xbc\\xb4\\xef\\xbc\\xaf\\xef\\xbc\\xa2\\xe3\\x81\\xaa\\xe6\\x8b\\x85\\xe3\\x81\\x90\\xe3\\x81\\x8b\\xe5\\xb7\\x9e\\xe8\\xad\\xb0\\xe4\\xbc\\x9a\\xe3\\x81\\x8c\\xe9\\x80\\x80\\xe5\\xae\\x98\\xe3\\x81\\x8c\\xe7\\xa5\\x9e\\xe7\\x87\\x88\\xe3\\x81\\x8b\\xe9\\x96\\x91\\xe6\\x96\\x87\\xe5\\xad\\x97\\xe3\\x81\\xb8\\xe5\\xb0\\xb1\\xe8\\x81\\xb7\\xe6\\xb5\\xaa\\xe4\\xba\\xba\\xe3\\x81\\xad\\xe5\\x8f\\xb8\\xe4\\xbb\\xa4\\xe5\\xae\\x98\\xe3\\x82\\x92\\xe7\\x99\\xbd\\xe5\\x92\\x8c\\xe3\\x81\\x88\\xe3\\x81\\xa8\\xe3\\x81\\x8b\\xe3\\x81\\x8d\\xe5\\x87\\xba\\xe3\\x81\\x99\\xe3\\x81\\xaa\\xe8\\x83\\xb8\\xe7\\x86\\xb1\\xe3\\x81\\x8c\\xe6\\xb1\\xba\\xe8\\xb5\\xb7\\xe4\\xbc\\x9a\\xe3\\x81\\xa8\\xe5\\x85\\x8d\\xe7\\xa7\\x9f\\xe3\\x81\\xa8\\xe5\\x81\\x8f\\xe3\\x81\\xaf\\xe8\\x9b\\x99\\xe3\\x81\\x8b\\xe7\\x99\\xba\\xe6\\xb3\\xa1\\xe3\\x83\\x9d\\xe3\\x83\\xaa\\xe3\\x82\\xa6\\xe3\\x83\\xac\\xe3\\x82\\xbf\\xe3\\x83\\xb3\\xe3\\x81\\xaf\\xe7\\x8b\\x99\\xe3\\x81\\x84\\xe3\\x82\\x92\\xe3\\x81\\xa4\\xe3\\x81\\x91\\xe3\\x82\\x8b\\xe3\\x82\\x92\\xe4\\xb8\\x80\\xe9\\x81\\xba\\xe4\\xbc\\x9d\\xe5\\xad\\x90\\xe9\\x9b\\x91\\xe7\\xa8\\xae\\xe3\\x81\\xbe\\xe3\\x81\\xa7\\xe4\\xb8\\xa1\\xe6\\x89\\x8b\\xe5\\x88\\xa9\\xe3\\x81\\xab\\xef\\xbc\\xa2\\xef\\xbc\\xad\\xe3\\x81\\x8c\\xe8\\xa1\\x80\\xe7\\xae\\xa1\\xe9\\x81\\x8b\\xe5\\x8b\\x95\\xe6\\x80\\xa7\\xe9\\xbc\\xbb\\xe7\\x82\\x8e\\xe3\\x81\\x8b\\xe8\\xa5\\xbf\\xe5\\xb1\\xb1\\xe6\\xb4\\xbe\\xe3\\x81\\xa8\\xe4\\xbd\\x99\\xe7\\x8c\\xb6\\xe3\\x82\\x88'\n",
      " b'\\xe3\\x81\\xa8\\xe6\\xb5\\x81\\xe8\\xbb\\xa2\\xe7\\x94\\x9f\\xe6\\xad\\xbb\\xe3\\x81\\x8b\\xe3\\x82\\x89\\xe5\\xa5\\x87\\xe5\\xb2\\xa9\\xe6\\x80\\xaa\\xe7\\x9f\\xb3\\xe3\\x82\\x92\\xe5\\x9f\\xb7\\xe7\\x9d\\x80\\xe3\\x81\\x8c\\xe5\\x8d\\x98\\xe8\\xa1\\xa3\\xe3\\x81\\xbe\\xe3\\x81\\xa7\\xe6\\xac\\xa7\\xe5\\xb7\\x9e\\xe8\\xb5\\xa4\\xe6\\x9d\\xbe\\xe3\\x81\\xaf\\xe9\\x9a\\x9b\\xe7\\x89\\xa9\\xe3\\x81\\xad\\xe5\\x9c\\x9f\\xe3\\x81\\xae\\xe3\\x81\\x86\\xe3\\x81\\x8b\\xe3\\x82\\x89\\xe7\\xb4\\xb0\\xe3\\x83\\x9e\\xe3\\x83\\x83\\xe3\\x83\\x81\\xe3\\x83\\xa7\\xe3\\x81\\xae\\xe6\\x82\\xaa\\xe6\\xb3\\x95\\xe3\\x82\\x82\\xe5\\x8f\\x88\\xe6\\xb3\\x95\\xe3\\x81\\xaa\\xe3\\x82\\x8a\\xe3\\x81\\xbe\\xe3\\x81\\xa7\\xe9\\x80\\x80\\xe3\\x82\\x8b\\xe3\\x81\\xa8\\xe7\\xa0\\x82\\xe6\\xb4\\xb2\\xe3\\x81\\xad\\xe5\\xaf\\xba\\xe7\\xa4\\xbe\\xe4\\xbb\\x8f\\xe9\\x96\\xa3\\xe3\\x82\\x92\\xe6\\xa0\\xa1\\xe9\\x95\\xb7\\xe5\\x85\\x88\\xe7\\x94\\x9f\\xe3\\x81\\xbe\\xe3\\x81\\xa7\\xe5\\x87\\x9d\\xe3\\x81\\xa3\\xe3\\x81\\xa6\\xe3\\x81\\xaf\\xe6\\x80\\x9d\\xe6\\xa1\\x88\\xe3\\x81\\xab\\xe8\\x83\\xbd\\xe3\\x82\\x8f\\xe3\\x81\\x9a\\xe3\\x82\\x92\\xe5\\xbf\\xa0\\xe8\\xa8\\x80\\xe8\\x80\\xb3\\xe3\\x81\\xab\\xe9\\x80\\x86\\xe3\\x82\\x89\\xe3\\x81\\x86\\xe3\\x82\\x84\\xe3\\x83\\x9a\\xe3\\x82\\xa2\\xe3\\x82\\x92\\xe7\\xb5\\x84\\xe3\\x82\\x80\\xe3\\x81\\xbe\\xe3\\x81\\xa7\\xe9\\xb6\\xaf\\xe7\\xa5\\x9e\\xe6\\xa5\\xbd\\xe3\\x81\\x8c\\xe7\\x8d\\xa3\\xe5\\xae\\xb3\\xe3\\x81\\x8c\\xe3\\x81\\x9f\\xe3\\x81\\xa0\\xe9\\xa3\\x9f\\xe3\\x81\\x84\\xe3\\x81\\xa8\\xe6\\xb3\\xa8\\xe6\\x84\\x8f\\xe3\\x81\\xb8\\xe5\\xb2\\xa9\\xe6\\x89\\x8b\\xe7\\x9c\\x8c\\xe7\\xab\\x8b\\xe5\\xa4\\xa7\\xe5\\xad\\xa6\\xe3\\x81\\xab\\xe6\\xb0\\x97\\xe3\\x81\\x8c\\xe3\\x81\\xa4\\xe3\\x81\\x8f\\xe3\\x81\\x8b\\xe4\\xba\\xba\\xe9\\x9b\\x86\\xe3\\x82\\x81\\xe3\\x81\\xa8\\xe8\\xa1\\x80\\xe3\\x83\\x98\\xe3\\x83\\x89\\xe3\\x81\\xa8\\xe9\\x81\\x8e\\xe3\\x83\\xa8\\xe3\\x82\\xa6\\xe7\\xb4\\xa0\\xe9\\x85\\xb8\\xe3\\x81\\xb8\\xe3\\x82\\xa4\\xe3\\x83\\xa1\\xe3\\x83\\xbc\\xe3\\x82\\xb8\\xe7\\xae\\xa1\\xe3\\x81\\xae'], shape=(5,), dtype=string)\n",
      "\n",
      "tf.Tensor(\n",
      "[b'\\xe3\\x81\\xab\\xe3\\x81\\xbe\\xe3\\x81\\xa1\\xe3\\x81\\xaa\\xe3\\x81\\xbf\\xe3\\x81\\xad\\xe3\\x81\\x9f\\xe3\\x81\\x84\\xe3\\x82\\x88\\xe3\\x81\\x86\\xe3\\x81\\xa1\\xe3\\x82\\x87\\xe3\\x81\\x86\\xe3\\x81\\xaa\\xe3\\x81\\x93\\xe3\\x81\\xaf\\xe3\\x81\\x8f\\xe3\\x81\\x95\\xe3\\x82\\x93\\xe3\\x82\\x82\\xe3\\x81\\xa4\\xe3\\x81\\x98\\xe3\\x81\\xb0\\xe3\\x82\\x93\\xe3\\x81\\xa8\\xe3\\x81\\xbe\\xe3\\x81\\xa3\\xe3\\x81\\xa1\\xe3\\x82\\x83\\xe3\\x81\\x97\\xe3\\x81\\x8a\\xe3\\x81\\xa7\\xe3\\x81\\x97\\xe3\\x81\\xa1\\xe3\\x81\\x9b\\xe3\\x82\\x93\\xe3\\x81\\xa8\\xe3\\x82\\x8f\\xe3\\x82\\x89\\xe3\\x81\\x84\\xe3\\x81\\x98\\xe3\\x82\\x8f\\xe3\\x81\\x8c\\xe3\\x81\\xaa\\xe3\\x82\\x93\\xe3\\x81\\xa8\\xe3\\x81\\xaa\\xe3\\x81\\x8f\\xe3\\x81\\xa7\\xe3\\x81\\xb2\\xe3\\x81\\x8c\\xe3\\x81\\x97\\xe3\\x82\\x84\\xe3\\x81\\xbe\\xe3\\x81\\x98\\xe3\\x81\\xa0\\xe3\\x81\\x84\\xe3\\x81\\xad\\xe3\\x83\\x88\\xe3\\x83\\xaa\\xe3\\x82\\xbb\\xe3\\x83\\x84\\xe3\\x81\\x8c\\xe3\\x81\\xa4\\xe3\\x81\\x91\\xe3\\x81\\xb3\\xe3\\x81\\xa8\\xe3\\x81\\xae\\xe3\\x81\\xa8\\xe3\\x81\\x8f\\xe3\\x81\\xb9\\xe3\\x81\\xa4\\xe3\\x81\\x91\\xe3\\x82\\x93\\xe3\\x81\\x8d\\xe3\\x82\\x85\\xe3\\x81\\x86\\xe3\\x81\\x84\\xe3\\x82\\x93\\xe3\\x81\\xbe\\xe3\\x81\\xa7\\xe3\\x81\\xad\\xe3\\x81\\xa4\\xe3\\x81\\x8d\\xe3\\x81\\xae\\xe3\\x81\\x84\\xe3\\x81\\x84\\xe3\\x82\\x88\\xe3\\x82\\xa4\\xe3\\x83\\xaf\\xe3\\x82\\xaa\\xe3\\x83\\xa2\\xe3\\x83\\x80\\xe3\\x82\\xab\\xe3\\x81\\xaa\\xe3\\x81\\xae\\xe3\\x82\\x8a\\xe3\\x81\\xa4\\xe3\\x81\\x91\\xe3\\x82\\x8b\\xe3\\x81\\xa8\\xe3\\x81\\x8d\\xe3\\x81\\x97\\xe3\\x82\\x87\\xe3\\x81\\x86\\xe3\\x83\\xac\\xe3\\x83\\xbc\\xe3\\x83\\x80\\xe3\\x83\\xbc\\xe3\\x81\\xaf\\xe3\\x81\\xaa\\xe3\\x81\\x9a\\xe3\\x82\\x89\\xe3\\x81\\x88\\xe3\\x81\\x86\\xe3\\x81\\x9f\\xe3\\x81\\xad\\xe3\\x82\\x8f\\xe3\\x82\\x93\\xe3\\x82\\x8f\\xe3\\x82\\x93\\xe3\\x82\\x82\\xe3\\x81\\xae\\xe3\\x81\\x8c\\xe3\\x81\\x9f\\xe3\\x82\\x8a\\xe3\\x82\\x84\\xe3\\x82\\x82\\xe3\\x81\\xa1\\xe3\\x82\\x80\\xe3\\x81\\x8e\\xe3\\x81\\xab\\xe3\\x81\\x86\\xe3\\x81\\x94\\xe3\\x81\\xae\\xe3\\x81\\x9f\\xe3\\x81\\x91\\xe3\\x81\\xae\\xe3\\x81\\x93\\xe3\\x81\\xad\\xe3\\x81\\x95\\xe3\\x81\\x8d\\xe3\\x82\\x82\\xe3\\x81\\xae\\xe3\\x82\\xaa\\xe3\\x83\\x97\\xe3\\x82\\xb7\\xe3\\x83\\xa7\\xe3\\x83\\xb3\\xe3\\x81\\xaf\\xe3\\x81\\x9e\\xe3\\x82\\x93\\xe3\\x81\\x98\\xe3\\x81\\x82\\xe3\\x81\\x92\\xe3\\x82\\x8b\\xe3\\x81\\x8b\\xe3\\x82\\x89\\xe3\\x81\\xa8\\xe3\\x82\\x8a\\xe3\\x81\\xa4\\xe3\\x81\\x8f\\xe3\\x81\\x97\\xe3\\x81\\xbe\\xe3\\x81\\x8c\\xe3\\x81\\xaa\\xe3\\x81\\x84\\xe3\\x81\\xa7'\n",
      " b'\\xe3\\x81\\xa8\\xe3\\x81\\x9f\\xe3\\x81\\x8b\\xe3\\x82\\x93\\xe3\\x81\\xbb\\xe3\\x81\\x86\\xe3\\x81\\x93\\xe3\\x81\\x86\\xe3\\x81\\x9e\\xe3\\x81\\x8f\\xe3\\x81\\x9f\\xe3\\x82\\x93\\xe3\\x81\\x8b\\xe3\\x81\\x99\\xe3\\x81\\x84\\xe3\\x81\\x9d\\xe3\\x81\\xab\\xe3\\x81\\x82\\xe3\\x82\\x93\\xe3\\x81\\x95\\xe3\\x81\\xa4\\xe3\\x81\\xbf\\xe3\\x81\\x99\\xe3\\x81\\x84\\xe3\\x81\\x8c\\xe3\\x81\\x91\\xe3\\x81\\x9f\\xe3\\x81\\x82\\xe3\\x81\\xb5\\xe3\\x82\\x8c\\xe3\\x81\\xa7\\xe3\\x81\\xab\\xe3\\x82\\x85\\xe3\\x81\\x86\\xe3\\x82\\x8a\\xe3\\x82\\x87\\xe3\\x81\\x8f\\xe3\\x81\\xb6\\xe3\\x82\\x93\\xe3\\x81\\xab\\xe3\\x81\\xb0\\xe3\\x81\\x84\\xe3\\x81\\x9c\\xe3\\x82\\x93\\xe3\\x81\\xad\\xe3\\x81\\xaf\\xe3\\x81\\x98\\xe3\\x81\\x8d\\xe3\\x81\\xa0\\xe3\\x81\\x99\\xe3\\x81\\xaa\\xe3\\x81\\x8a\\xe3\\x82\\x8a\\xe3\\x81\\x8b\\xe3\\x81\\x88\\xe3\\x81\\x99\\xe3\\x81\\xaa\\xe3\\x81\\xbe\\xe3\\x81\\xab\\xe3\\x81\\x98\\xe3\\x82\\x85\\xe3\\x81\\xaa\\xe3\\x81\\x86\\xe3\\x81\\x97\\xe3\\x81\\xbf\\xe3\\x81\\xa4\\xe3\\x81\\xa9\\xe3\\x81\\x8d\\xe3\\x81\\xaf\\xe3\\x81\\x9b\\xe3\\x81\\xa4\\xe3\\x81\\x98\\xe3\\x82\\x87\\xe3\\x81\\x8f\\xe3\\x82\\x88\\xe3\\x81\\x93\\xe3\\x81\\x86\\xe3\\x81\\xb0\\xe3\\x81\\x84\\xe3\\x81\\xa7\\xe3\\x81\\x9c\\xe3\\x82\\x93\\xe3\\x81\\xbd\\xe3\\x81\\x86\\xe3\\x81\\x95\\xe3\\x81\\x84\\xe3\\x81\\xbb\\xe3\\x81\\x8d\\xe3\\x82\\x85\\xe3\\x81\\x86\\xe3\\x81\\xa6\\xe3\\x82\\x93\\xe3\\x81\\xa8\\xe3\\x81\\xaa\\xe3\\x81\\x8a\\xe3\\x81\\xb3\\xe3\\x81\\xae\\xe3\\x81\\x8b\\xe3\\x81\\xbf\\xe3\\x82\\x84\\xe3\\x81\\x8f\\xe3\\x81\\x86\\xe3\\x81\\xa6\\xe3\\x81\\x8c\\xe3\\x81\\x9f\\xe3\\x81\\x8b\\xe3\\x82\\x89\\xe3\\x81\\x82\\xe3\\x81\\x95\\xe3\\x81\\x84\\xe3\\x81\\xaf\\xe3\\x82\\x82\\xe3\\x81\\x88\\xe3\\x81\\xa0\\xe3\\x81\\x99\\xe3\\x81\\xab\\xe3\\x81\\x98\\xe3\\x82\\x85\\xe3\\x81\\x8f\\xe3\\x81\\x91\\xe3\\x82\\x93\\xe3\\x81\\xa8\\xe3\\x81\\x97\\xe3\\x82\\x89\\xe3\\x81\\x8b\\xe3\\x81\\xbf\\xe3\\x82\\x82\\xe3\\x81\\x8b\\xe3\\x81\\xa4\\xe3\\x81\\x8e\\xe3\\x82\\x84\\xe3\\x82\\x92'\n",
      " b'\\xe3\\x81\\xab\\xe3\\x81\\xb6\\xe3\\x81\\xa4\\xe3\\x81\\x8b\\xe3\\x82\\x8a\\xe3\\x81\\x82\\xe3\\x81\\x86\\xe3\\x81\\x8b\\xe3\\x82\\x89\\xe3\\x81\\x97\\xe3\\x82\\x85\\xe3\\x82\\x93\\xe3\\x81\\x9b\\xe3\\x81\\xa4\\xe3\\x82\\x88\\xe3\\x81\\x8b\\xe3\\x81\\x8f\\xe3\\x81\\xa8\\xe3\\x81\\x8f\\xe3\\x82\\x81\\xe3\\x82\\x93\\xe3\\x81\\x88\\xe3\\x81\\x8d\\xe3\\x82\\x84\\xe3\\x81\\xb2\\xe3\\x81\\xaa\\xe3\\x81\\x84\\xe3\\x81\\x98\\xe3\\x81\\xa9\\xe3\\x82\\x8a\\xe3\\x81\\x8b\\xe3\\x82\\x89\\xe3\\x81\\x82\\xe3\\x81\\x88\\xe3\\x82\\x8b\\xe3\\x81\\x8b\\xe3\\x81\\xa8\\xe3\\x81\\xb3\\xe3\\x81\\xae\\xe3\\x82\\x82\\xe3\\x81\\xae\\xe3\\x81\\xa8\\xe3\\x83\\x8f\\xe3\\x83\\x8d\\xe3\\x83\\x9e\\xe3\\x83\\xb3\\xe3\\x81\\xab\\xe3\\x81\\x88\\xe3\\x81\\xa0\\xe3\\x81\\xbe\\xe3\\x82\\x81\\xe3\\x81\\xa8\\xe3\\x81\\x86\\xe3\\x81\\xb5\\xe3\\x81\\xaf\\xe3\\x83\\x9f\\xe3\\x82\\xaf\\xe3\\x82\\xbd\\xe3\\x82\\xbe\\xe3\\x82\\xa2\\xe3\\x82\\x82\\xe3\\x82\\x93\\xe3\\x81\\xa7\\xe3\\x81\\xb5\\xe3\\x81\\xa8\\xe3\\x81\\xaf\\xe3\\x81\\xbb\\xe3\\x81\\x8a\\xe3\\x81\\x88\\xe3\\x82\\x80\\xe3\\x82\\x84\\xe3\\x81\\xbc\\xe3\\x81\\x86\\xe3\\x81\\xa8\\xe3\\x81\\x86\\xe3\\x81\\xa1\\xe3\\x82\\x93\\xe3\\x81\\x98\\xe3\\x82\\x85\\xe3\\x81\\xa4\\xe3\\x81\\xab\\xe3\\x81\\x98\\xe3\\x81\\x9c\\xe3\\x82\\x93\\xe3\\x81\\x86\\xe3\\x82\\x93\\xe3\\x81\\xa9\\xe3\\x81\\x86\\xe3\\x81\\xa7\\xe3\\x83\\x92\\xe3\\x83\\x9e\\xe3\\x83\\xa9\\xe3\\x83\\xa4\\xe3\\x82\\x86\\xe3\\x81\\x8d\\xe3\\x81\\xae\\xe3\\x81\\x97\\xe3\\x81\\x9f\\xe3\\x81\\x8c\\xe3\\x81\\xab\\xe3\\x81\\x8f\\xe3\\x82\\xb8\\xe3\\x83\\x90\\xe3\\x83\\xb3\\xe3\\x81\\xad\\xe3\\x82\\x82\\xe3\\x82\\x88\\xe3\\x81\\x86\\xe3\\x81\\x97\\xe3\\x82\\x82\\xe3\\x81\\xae\\xe3\\x82\\x92\\xe3\\x81\\xa7\\xe3\\x81\\x9d\\xe3\\x82\\x8d\\xe3\\x81\\x86\\xe3\\x81\\xb8\\xe3\\x81\\x8b\\xe3\\x81\\xbf\\xe3\\x81\\xae\\xe3\\x81\\xbf\\xe3\\x81\\x93\\xe3\\x81\\xa7\\xe3\\x81\\xa6\\xe3\\x81\\x8d\\xe3\\x81\\xa1\\xe3\\x81\\xa6\\xe3\\x81\\x8d\\xe3\\x81\\x95\\xe3\\x81\\x8f\\xe3\\x81\\xad\\xe3\\x81\\x93\\xe3\\x81\\x98\\xe3\\x82\\x93\\xe3\\x81\\x93\\xe3\\x81\\x86\\xe3\\x81\\x93\\xe3\\x81\\x8f\\xe3\\x82\\x84\\xe3\\x81\\xb5\\xe3\\x81\\xa8\\xe3\\x81\\xbe\\xe3\\x81\\xab\\xe3\\x81\\xaa'\n",
      " b'\\xe3\\x82\\x92\\xe3\\x83\\x89\\xe3\\x82\\xa4\\xe3\\x83\\x84\\xe3\\x81\\x8c\\xe3\\x81\\xa0\\xe3\\x81\\x84\\xe3\\x81\\x92\\xe3\\x82\\x93\\xe3\\x81\\x97\\xe3\\x82\\x83\\xe3\\x81\\xbe\\xe3\\x81\\xa7\\xe3\\x81\\x9b\\xe3\\x82\\x93\\xe3\\x81\\xa7\\xe3\\x82\\x93\\xe3\\x81\\x93\\xe3\\x81\\x86\\xe3\\x81\\x95\\xe3\\x81\\x8f\\xe3\\x81\\xae\\xe3\\x81\\xb5\\xe3\\x81\\xa7\\xe3\\x81\\xa5\\xe3\\x81\\x8b\\xe3\\x81\\xbe\\xe3\\x81\\xa7\\xe3\\x81\\x93\\xe3\\x82\\x93\\xe3\\x82\\x8f\\xe3\\x81\\x9b\\xe3\\x81\\x84\\xe3\\x81\\x8b\\xe3\\x81\\x84\\xe3\\x81\\xab\\xe3\\x82\\x87\\xe3\\x81\\x86\\xe3\\x81\\x97\\xe3\\x82\\x87\\xe3\\x81\\x86\\xe3\\x81\\x8b\\xe3\\x82\\xb7\\xe3\\x83\\x80\\xe3\\x83\\xac\\xe3\\x82\\xb6\\xe3\\x82\\xaf\\xe3\\x83\\xa9\\xe3\\x81\\xab\\xe3\\x81\\x95\\xe3\\x82\\x93\\xe3\\x81\\x8b\\xe3\\x81\\x8f\\xe3\\x81\\xb6\\xe3\\x81\\xa1\\xe3\\x81\\x97\\xe3\\x82\\x93\\xe3\\x81\\x98\\xe3\\x82\\x85\\xe3\\x81\\x86\\xe3\\x81\\x8d\\xe3\\x82\\x87\\xe3\\x81\\x86\\xe3\\x81\\xa7\\xe3\\x81\\xb5\\xe3\\x81\\xa3\\xe3\\x81\\x95\\xe3\\x82\\x93\\xe3\\x81\\xa8\\xe3\\x81\\xa6\\xe3\\x81\\x84\\xe3\\x81\\x8d\\xe3\\x82\\x88\\xe3\\x81\\x8d\\xe3\\x82\\x93\\xe3\\x81\\x8b\\xe3\\x82\\x89\\xe3\\x81\\xb0\\xe3\\x82\\x93\\xe3\\x81\\xab\\xe3\\x82\\x93\\xe3\\x82\\x80\\xe3\\x81\\x91\\xe3\\x81\\x8b\\xe3\\x83\\x86\\xe3\\x82\\xa3\\xe3\\x83\\xbc\\xe3\\x83\\xbb\\xe3\\x82\\xaa\\xe3\\x83\\xbc\\xe3\\x83\\xbb\\xe3\\x83\\x93\\xe3\\x83\\xbc\\xe3\\x81\\xaa\\xe3\\x81\\x8b\\xe3\\x81\\xa4\\xe3\\x81\\x90\\xe3\\x81\\x8b\\xe3\\x81\\x97\\xe3\\x82\\x85\\xe3\\x81\\x86\\xe3\\x81\\x8e\\xe3\\x81\\x8b\\xe3\\x81\\x84\\xe3\\x81\\x8c\\xe3\\x81\\x9f\\xe3\\x81\\x84\\xe3\\x81\\x8b\\xe3\\x82\\x93\\xe3\\x81\\x8c\\xe3\\x81\\x97\\xe3\\x82\\x93\\xe3\\x81\\xa8\\xe3\\x81\\x86\\xe3\\x81\\x8b\\xe3\\x81\\x8b\\xe3\\x82\\x93\\xe3\\x82\\x82\\xe3\\x81\\x98\\xe3\\x81\\xb8\\xe3\\x81\\x97\\xe3\\x82\\x85\\xe3\\x81\\x86\\xe3\\x81\\x97\\xe3\\x82\\x87\\xe3\\x81\\x8f\\xe3\\x82\\x8d\\xe3\\x81\\x86\\xe3\\x81\\xab\\xe3\\x82\\x93\\xe3\\x81\\xad\\xe3\\x81\\x97\\xe3\\x82\\x8c\\xe3\\x81\\x84\\xe3\\x81\\x8b\\xe3\\x82\\x93\\xe3\\x82\\x92\\xe3\\x81\\x97\\xe3\\x82\\x8d\\xe3\\x81\\x82\\xe3\\x81\\x88\\xe3\\x81\\xa8\\xe3\\x81\\x8b\\xe3\\x81\\x8d\\xe3\\x81\\xa0\\xe3\\x81\\x99\\xe3\\x81\\xaa\\xe3\\x82\\x80\\xe3\\x81\\xad\\xe3\\x81\\x82\\xe3\\x81\\xa4\\xe3\\x81\\x8c\\xe3\\x81\\x91\\xe3\\x81\\xa3\\xe3\\x81\\x8d\\xe3\\x81\\x8b\\xe3\\x81\\x84\\xe3\\x81\\xa8\\xe3\\x82\\x81\\xe3\\x82\\x93\\xe3\\x81\\x9d\\xe3\\x81\\xa8\\xe3\\x81\\x8b\\xe3\\x81\\x9f\\xe3\\x81\\xbb\\xe3\\x81\\xaf\\xe3\\x81\\x8b\\xe3\\x81\\x88\\xe3\\x82\\x8b\\xe3\\x81\\x8b\\xe3\\x81\\xaf\\xe3\\x81\\xa3\\xe3\\x81\\xbd\\xe3\\x81\\x86\\xe3\\x83\\x9d\\xe3\\x83\\xaa\\xe3\\x82\\xa6\\xe3\\x83\\xac\\xe3\\x82\\xbf\\xe3\\x83\\xb3\\xe3\\x81\\xaf\\xe3\\x81\\xad\\xe3\\x82\\x89\\xe3\\x81\\x84\\xe3\\x82\\x92\\xe3\\x81\\xa4\\xe3\\x81\\x91\\xe3\\x82\\x8b\\xe3\\x82\\x92\\xe3\\x81\\x84\\xe3\\x81\\xa1\\xe3\\x81\\x84\\xe3\\x81\\xa7\\xe3\\x82\\x93\\xe3\\x81\\x97\\xe3\\x81\\x96\\xe3\\x81\\xa3\\xe3\\x81\\x97\\xe3\\x82\\x85\\xe3\\x81\\xbe\\xe3\\x81\\xa7\\xe3\\x82\\x8a\\xe3\\x82\\x87\\xe3\\x81\\x86\\xe3\\x81\\xa6\\xe3\\x81\\x8d\\xe3\\x81\\x8d\\xe3\\x81\\xab\\xe3\\x83\\x93\\xe3\\x83\\xbc\\xe3\\x82\\xa8\\xe3\\x83\\xa0\\xe3\\x81\\x8c\\xe3\\x81\\x91\\xe3\\x81\\xa3\\xe3\\x81\\x8b\\xe3\\x82\\x93\\xe3\\x81\\x86\\xe3\\x82\\x93\\xe3\\x81\\xa9\\xe3\\x81\\x86\\xe3\\x81\\x9b\\xe3\\x81\\x84\\xe3\\x81\\xb3\\xe3\\x81\\x88\\xe3\\x82\\x93\\xe3\\x81\\x8b\\xe3\\x81\\x9b\\xe3\\x81\\x84\\xe3\\x81\\x96\\xe3\\x82\\x93\\xe3\\x81\\xaf\\xe3\\x81\\xa8\\xe3\\x82\\x88\\xe3\\x82\\x86\\xe3\\x81\\x86\\xe3\\x82\\x88'\n",
      " b'\\xe3\\x81\\xa8\\xe3\\x82\\x8b\\xe3\\x81\\xa6\\xe3\\x82\\x93\\xe3\\x81\\x97\\xe3\\x82\\x87\\xe3\\x81\\x86\\xe3\\x81\\x98\\xe3\\x81\\x8b\\xe3\\x82\\x89\\xe3\\x81\\x8d\\xe3\\x81\\x8c\\xe3\\x82\\x93\\xe3\\x81\\x8b\\xe3\\x81\\x84\\xe3\\x81\\x9b\\xe3\\x81\\x8d\\xe3\\x82\\x92\\xe3\\x81\\x97\\xe3\\x82\\x85\\xe3\\x81\\x86\\xe3\\x81\\xa1\\xe3\\x82\\x83\\xe3\\x81\\x8f\\xe3\\x81\\x8c\\xe3\\x81\\x9f\\xe3\\x82\\x93\\xe3\\x81\\x84\\xe3\\x81\\xbe\\xe3\\x81\\xa7\\xe3\\x81\\x8a\\xe3\\x81\\x86\\xe3\\x81\\x97\\xe3\\x82\\x85\\xe3\\x81\\x86\\xe3\\x81\\x82\\xe3\\x81\\x8b\\xe3\\x81\\xbe\\xe3\\x81\\xa4\\xe3\\x81\\xaf\\xe3\\x81\\x8d\\xe3\\x82\\x8f\\xe3\\x82\\x82\\xe3\\x81\\xae\\xe3\\x81\\xad\\xe3\\x81\\xa9\\xe3\\x81\\xae\\xe3\\x81\\x86\\xe3\\x81\\x8b\\xe3\\x82\\x89\\xe3\\x81\\xbb\\xe3\\x81\\x9d\\xe3\\x83\\x9e\\xe3\\x83\\x83\\xe3\\x83\\x81\\xe3\\x83\\xa7\\xe3\\x81\\xae\\xe3\\x81\\x82\\xe3\\x81\\x8f\\xe3\\x81\\xbb\\xe3\\x81\\x86\\xe3\\x82\\x82\\xe3\\x81\\xbe\\xe3\\x81\\x9f\\xe3\\x81\\xbb\\xe3\\x81\\x86\\xe3\\x81\\xaa\\xe3\\x82\\x8a\\xe3\\x81\\xbe\\xe3\\x81\\xa7\\xe3\\x81\\x97\\xe3\\x81\\x95\\xe3\\x82\\x8b\\xe3\\x81\\xa8\\xe3\\x81\\x95\\xe3\\x81\\x99\\xe3\\x81\\xad\\xe3\\x81\\x98\\xe3\\x81\\x97\\xe3\\x82\\x83\\xe3\\x81\\xb6\\xe3\\x81\\xa3\\xe3\\x81\\x8b\\xe3\\x81\\x8f\\xe3\\x82\\x92\\xe3\\x81\\x93\\xe3\\x81\\x86\\xe3\\x81\\xa1\\xe3\\x82\\x87\\xe3\\x81\\x86\\xe3\\x81\\x9b\\xe3\\x82\\x93\\xe3\\x81\\x9b\\xe3\\x81\\x84\\xe3\\x81\\xbe\\xe3\\x81\\xa7\\xe3\\x81\\x93\\xe3\\x81\\xa3\\xe3\\x81\\xa6\\xe3\\x81\\xaf\\xe3\\x81\\x97\\xe3\\x81\\x82\\xe3\\x82\\x93\\xe3\\x81\\xab\\xe3\\x81\\x82\\xe3\\x81\\x9f\\xe3\\x82\\x8f\\xe3\\x81\\x9a\\xe3\\x82\\x92\\xe3\\x81\\xa1\\xe3\\x82\\x85\\xe3\\x81\\x86\\xe3\\x81\\x92\\xe3\\x82\\x93\\xe3\\x81\\xbf\\xe3\\x81\\xbf\\xe3\\x81\\xab\\xe3\\x81\\x95\\xe3\\x81\\x8b\\xe3\\x82\\x89\\xe3\\x81\\x86\\xe3\\x82\\x84\\xe3\\x83\\x9a\\xe3\\x82\\xa2\\xe3\\x82\\x92\\xe3\\x81\\x8f\\xe3\\x82\\x80\\xe3\\x81\\xbe\\xe3\\x81\\xa7\\xe3\\x82\\xa6\\xe3\\x82\\xb0\\xe3\\x82\\xa4\\xe3\\x82\\xb9\\xe3\\x82\\xab\\xe3\\x82\\xb0\\xe3\\x83\\xa9\\xe3\\x81\\x8c\\xe3\\x81\\x98\\xe3\\x82\\x85\\xe3\\x81\\x86\\xe3\\x81\\x8c\\xe3\\x81\\x84\\xe3\\x81\\x8c\\xe3\\x82\\xbf\\xe3\\x83\\x80\\xe3\\x81\\x90\\xe3\\x81\\x84\\xe3\\x81\\xa8\\xe3\\x81\\xa1\\xe3\\x82\\x85\\xe3\\x81\\x86\\xe3\\x81\\x84\\xe3\\x81\\xb8\\xe3\\x81\\x84\\xe3\\x82\\x8f\\xe3\\x81\\xa6\\xe3\\x81\\x91\\xe3\\x82\\x93\\xe3\\x82\\x8a\\xe3\\x81\\xa4\\xe3\\x81\\xa0\\xe3\\x81\\x84\\xe3\\x81\\x8c\\xe3\\x81\\x8f\\xe3\\x81\\xab\\xe3\\x81\\x8d\\xe3\\x81\\x8c\\xe3\\x81\\xa4\\xe3\\x81\\x8f\\xe3\\x81\\x8b\\xe3\\x81\\xb2\\xe3\\x81\\xa8\\xe3\\x81\\x82\\xe3\\x81\\xa4\\xe3\\x82\\x81\\xe3\\x81\\xa8\\xe3\\x81\\xa1\\xe3\\x81\\xb8\\xe3\\x81\\xa9\\xe3\\x81\\xa8\\xe3\\x81\\x8b\\xe3\\x83\\xa8\\xe3\\x82\\xa6\\xe3\\x81\\x9d\\xe3\\x81\\x95\\xe3\\x82\\x93\\xe3\\x81\\xb8\\xe3\\x82\\xa4\\xe3\\x83\\xa1\\xe3\\x83\\xbc\\xe3\\x82\\xb8\\xe3\\x81\\x8b\\xe3\\x82\\x93\\xe3\\x81\\xae'], shape=(5,), dtype=string)\n"
     ]
    }
   ],
   "source": [
    "for example_context_strings, example_target_strings in train_raw.take(1):\n",
    "  print(example_context_strings[:5])\n",
    "  print()\n",
    "  print(example_target_strings[:5])\n",
    "  break"
   ]
  },
  {
   "cell_type": "markdown",
   "metadata": {
    "id": "zCoxLcuN3bwv"
   },
   "source": [
    "### Text preprocessing"
   ]
  },
  {
   "cell_type": "markdown",
   "metadata": {
    "id": "7kwdPcHvzz_a"
   },
   "source": [
    "One of the goals of this tutorial is to build a model that can be exported as a `tf.saved_model`. To make that exported model useful it should take `tf.string` inputs, and return `tf.string` outputs: All the text processing happens inside the model. Mainly using a `layers.TextVectorization` layer."
   ]
  },
  {
   "cell_type": "markdown",
   "metadata": {
    "id": "EOQ5n55X4uDB"
   },
   "source": [
    "#### Standardization"
   ]
  },
  {
   "cell_type": "markdown",
   "metadata": {
    "id": "upKhKAMK4zzI"
   },
   "source": [
    "The model is dealing with multilingual text with a limited vocabulary. So it will be important to standardize the input text.\n",
    "\n",
    "The first step is Unicode normalization to split accented characters and replace compatibility characters with their ASCII equivalents.\n",
    "\n",
    "The `tensorflow_text` package contains a unicode normalize operation:"
   ]
  },
  {
   "cell_type": "code",
   "execution_count": 126,
   "metadata": {
    "id": "mD0e-DWGQ2Vo"
   },
   "outputs": [
    {
     "name": "stdout",
     "output_type": "stream",
     "text": [
      "b'\\xef\\xbc\\x93\\xe3\\x83\\xb6\\xe5\\x9b\\xbd\\xe8\\xaa\\x9e\\xe3\\x81\\x8c\\xe3\\x81\\xa7\\xe3\\x81\\x8d\\xe3\\x82\\x8b\\xe3\\x81\\x91\\xe3\\x81\\xa9\\xe3\\x80\\x81\\xe8\\x8b\\xb1\\xe8\\xaa\\x9e\\xe3\\x81\\xaf\\xe9\\x9b\\xa3\\xe3\\x81\\x97\\xe3\\x81\\x84\\xe3\\x81\\xa7\\xe3\\x81\\x99'\n",
      "b'3\\xe3\\x83\\xb6\\xe5\\x9b\\xbd\\xe8\\xaa\\x9e\\xe3\\x81\\x8c\\xe3\\x81\\xa7\\xe3\\x81\\x8d\\xe3\\x82\\x8b\\xe3\\x81\\x91\\xe3\\x81\\xa9\\xe3\\x80\\x81\\xe8\\x8b\\xb1\\xe8\\xaa\\x9e\\xe3\\x81\\xaf\\xe9\\x9b\\xa3\\xe3\\x81\\x97\\xe3\\x81\\x84\\xe3\\x81\\xa7\\xe3\\x81\\x99'\n",
      "3ヶ国語ができるけど、英語は難しいです\n"
     ]
    }
   ],
   "source": [
    "example_text = tf.constant('３ヶ国語ができるけど、英語は難しいです')\n",
    "\n",
    "print(example_text.numpy())\n",
    "print(tf_text.normalize_utf8(example_text, 'NFKC').numpy())\n",
    "print(tf_text.normalize_utf8(example_text, 'NFKC').numpy().decode())"
   ]
  },
  {
   "cell_type": "markdown",
   "metadata": {
    "id": "6hTllEjK6RSo"
   },
   "source": [
    "Unicode normalization will be the first step in the text standardization function:"
   ]
  },
  {
   "cell_type": "code",
   "execution_count": 127,
   "metadata": {},
   "outputs": [],
   "source": [
    "def containsJapanese(text):\n",
    "    re_kanji = re.compile(r'[\\u3000-\\u303f\\u3040-\\u309f\\u30a0-\\u30ff\\uff00-\\uff9f\\u4e00-\\u9faf\\u3400-\\u4dbf]')\n",
    "    return re_kanji.search(text) is not None;\n",
    "\n",
    "def containsKanji(text):\n",
    "    re_kanji = re.compile(r'[\\u4e00-\\u9faf\\u3400-\\u4dbf]')\n",
    "    return re_kanji.search(text) is not None;\n",
    "\n",
    "def containsHiragana(text):\n",
    "    re_hiragana = re.compile(r'[\\u3040-\\u309f]')\n",
    "    return re_hiragana.search(text) is not None;\n",
    "\n",
    "def get_state(text):\n",
    "    if containsKanji(text):\n",
    "        return 'kanji'\n",
    "    elif containsHiragana(text):\n",
    "        return 'hiragana'\n",
    "    else:\n",
    "        return 'other'\n",
    "\n",
    "def insert_spaces(text):\n",
    "    result = \"\"\n",
    "    state = get_state(text[0])\n",
    "    i = 0\n",
    "    length = len(text)\n",
    "    while i < length:\n",
    "        if state != get_state(text[i]):\n",
    "            state = get_state(text[i])\n",
    "            result += ' '\n",
    "        result += text[i]\n",
    "        i += 1\n",
    "    return result"
   ]
  },
  {
   "cell_type": "code",
   "execution_count": 128,
   "metadata": {
    "id": "chTF5N885F0P"
   },
   "outputs": [],
   "source": [
    "def tf_lower_and_split_punct(text):\n",
    "    text = tf.strings.lower(text)\n",
    "    text = tf_text.normalize_utf8(text, 'NFKC')\n",
    "    # Punctuation removed, add later if needed\n",
    "    text = tf.strings.regex_replace(text, '[^\\u3000-\\u303f\\u3040-\\u309f\\u30a0-\\u30ff\\uff00-\\uff9f\\u4e00-\\u9faf\\u3400-\\u4dbf]', '')\n",
    "    # # Add spaces around punctuation.\n",
    "    text = tf.strings.regex_replace(text, '[\\u3000-\\u303f\\u3040-\\u309f\\u30a0-\\u30ff\\uff00-\\uff9f\\u4e00-\\u9faf\\u3400-\\u4dbf]', r' \\0 ')\n",
    "    # text = tf.strings.regex_replace(text, '[.?!,¿]', r' \\0 ')\n",
    "    # Strip whitespace.\n",
    "    text = tf.strings.strip(text)\n",
    "    \n",
    "    text = tf.strings.join(['[START]', text, '[END]'], separator=' ')\n",
    "    return text"
   ]
  },
  {
   "cell_type": "code",
   "execution_count": 129,
   "metadata": {
    "id": "UREvDg3sEKYa"
   },
   "outputs": [
    {
     "name": "stdout",
     "output_type": "stream",
     "text": [
      "３ヶ国語ができるけど、英語は難しいです\n",
      "[START] ヶ  国  語  が  で  き  る  け  ど  、  英  語  は  難  し  い  で  す [END]\n"
     ]
    }
   ],
   "source": [
    "print(example_text.numpy().decode())\n",
    "print(tf_lower_and_split_punct(example_text).numpy().decode())"
   ]
  },
  {
   "cell_type": "markdown",
   "metadata": {
    "id": "4q-sKsSI7xRZ"
   },
   "source": [
    "#### Text Vectorization"
   ]
  },
  {
   "cell_type": "markdown",
   "metadata": {
    "id": "6aKn8qd37abi"
   },
   "source": [
    "This standardization function will be wrapped up in a `tf.keras.layers.TextVectorization` layer which will handle the vocabulary extraction and conversion of input text to sequences of tokens."
   ]
  },
  {
   "cell_type": "code",
   "execution_count": 130,
   "metadata": {
    "id": "eAY9k49G3jE_"
   },
   "outputs": [],
   "source": [
    "max_vocab_size = 25000\n",
    "\n",
    "context_text_processor = tf.keras.layers.TextVectorization(\n",
    "    standardize=tf_lower_and_split_punct,\n",
    "    max_tokens=max_vocab_size,\n",
    "    ragged=True)"
   ]
  },
  {
   "cell_type": "markdown",
   "metadata": {
    "id": "7kbC6ODP8IK_"
   },
   "source": [
    "The `TextVectorization` layer and many other [Keras preprocessing layers](https://www.tensorflow.org/guide/keras/preprocessing_layers) have an `adapt` method. This method reads one epoch of the training data, and works a lot like `Model.fit`. This `adapt` method initializes the layer based on the data. Here it determines the vocabulary:"
   ]
  },
  {
   "cell_type": "code",
   "execution_count": 131,
   "metadata": {
    "id": "bmsI1Yql8FYe"
   },
   "outputs": [
    {
     "name": "stderr",
     "output_type": "stream",
     "text": [
      "2024-06-30 21:02:54.303787: W tensorflow/core/framework/local_rendezvous.cc:404] Local rendezvous is aborting with status: OUT_OF_RANGE: End of sequence\n"
     ]
    },
    {
     "data": {
      "text/plain": [
       "['', '[UNK]', 'か', 'で', 'の', 'を', 'が', 'に', 'な', 'ら']"
      ]
     },
     "execution_count": 131,
     "metadata": {},
     "output_type": "execute_result"
    }
   ],
   "source": [
    "context_text_processor.adapt(train_raw.map(lambda context, target: context))\n",
    "\n",
    "# Here are the first 10 words from the vocabulary:\n",
    "context_text_processor.get_vocabulary()[:10]"
   ]
  },
  {
   "cell_type": "markdown",
   "metadata": {
    "id": "9kGjIFjX8_Wp"
   },
   "source": [
    "That's the Spanish `TextVectorization` layer, now build and `.adapt()` the English one:"
   ]
  },
  {
   "cell_type": "code",
   "execution_count": 132,
   "metadata": {
    "id": "jlC4xuZnKLBS"
   },
   "outputs": [
    {
     "name": "stderr",
     "output_type": "stream",
     "text": [
      "2024-06-30 21:03:23.819347: W tensorflow/core/framework/local_rendezvous.cc:404] Local rendezvous is aborting with status: OUT_OF_RANGE: End of sequence\n"
     ]
    },
    {
     "data": {
      "text/plain": [
       "['', '[UNK]', 'う', 'ん', 'い', 'か', 'し', 'く', 'き', 'ょ']"
      ]
     },
     "execution_count": 132,
     "metadata": {},
     "output_type": "execute_result"
    }
   ],
   "source": [
    "target_text_processor = tf.keras.layers.TextVectorization(\n",
    "    standardize=tf_lower_and_split_punct,\n",
    "    max_tokens=max_vocab_size,\n",
    "    ragged=True)\n",
    "\n",
    "target_text_processor.adapt(train_raw.map(lambda context, target: target))\n",
    "target_text_processor.get_vocabulary()[:10]"
   ]
  },
  {
   "cell_type": "markdown",
   "metadata": {
    "id": "BWQqlP_s9eIv"
   },
   "source": [
    "Now these layers can convert a batch of strings into a batch of token IDs:"
   ]
  },
  {
   "cell_type": "code",
   "execution_count": 133,
   "metadata": {
    "id": "9KZxj8IrNZ9S"
   },
   "outputs": [
    {
     "data": {
      "text/plain": [
       "<tf.RaggedTensor [[21, 7, 1294, 868, 16, 349, 859, 261, 8, 114, 435, 62, 207, 10, 2056, 396,\n",
       "  11, 2596, 327, 433, 3, 646, 1197, 1197, 1197, 11, 650, 19, 143, 504, 6,\n",
       "  273, 11, 8, 28, 3, 305, 135, 119, 157, 16, 90, 20, 492, 6, 82, 34, 4, 403,\n",
       "  314, 438, 545, 359, 12, 3, 604, 82, 24, 4, 221, 19, 14, 619, 1289, 2524,\n",
       "  8, 393, 20, 308, 29, 18, 11, 63, 559, 115, 25, 318, 25, 13, 8, 128, 9, 50,\n",
       "  537, 16, 86, 60, 86, 60, 42, 103, 15, 993, 823, 7, 487, 239, 4, 72, 352,\n",
       "  397, 114, 16, 244, 42, 227, 149, 100, 505, 26, 13, 836, 162, 64, 98, 18,\n",
       "  2, 9, 11, 20, 53, 28, 548, 6, 8, 19, 3, 22]                               ,\n",
       " [21, 11, 284, 575, 1935, 649, 502, 769, 78, 76, 212, 7, 760, 542, 717,\n",
       "  2298, 6, 1995, 117, 709, 30, 3, 96, 120, 92, 7, 2486, 1984, 16, 618, 24,\n",
       "  225, 27, 8, 77, 20, 459, 27, 8, 1075, 1845, 1465, 8, 2466, 122, 119, 13,\n",
       "  429, 2476, 14, 2547, 441, 3, 183, 145, 518, 715, 857, 288, 11, 283, 2825,\n",
       "  116, 15, 176, 57, 154, 2, 9, 1638, 19, 13, 2135, 50, 225, 27, 7, 388, 653,\n",
       "  1457, 11, 139, 280, 10, 2, 53, 210, 181, 5, 22]                           ,\n",
       " [21, 7, 258, 53, 2, 20, 43, 35, 2, 9, 720, 429, 14, 2276, 512, 932, 1431,\n",
       "  15, 647, 160, 73, 938, 2, 9, 201, 50, 18, 2, 1759, 4, 52, 11, 1122, 752,\n",
       "  7, 1195, 513, 513, 1022, 13, 279, 62, 491, 2028, 58, 415, 3, 556, 454, 13,\n",
       "  665, 665, 650, 95, 15, 2215, 190, 1973, 1274, 7, 87, 183, 358, 88, 3, 700,\n",
       "  125, 54, 563, 429, 4, 97, 6, 344, 3173, 3091, 16, 1828, 23, 42, 5, 59,\n",
       "  1576, 35, 17, 116, 4, 94, 33, 3, 953, 73, 953, 179, 16, 994, 34, 632, 654,\n",
       "  15, 349, 2746, 8, 22]                                                     ]>"
      ]
     },
     "execution_count": 133,
     "metadata": {},
     "output_type": "execute_result"
    }
   ],
   "source": [
    "example_tokens = context_text_processor(example_context_strings)\n",
    "example_tokens[:3, :]"
   ]
  },
  {
   "cell_type": "markdown",
   "metadata": {
    "id": "AA9rUn9G9n78"
   },
   "source": [
    "The `get_vocabulary` method can be used to convert token IDs back to text:"
   ]
  },
  {
   "cell_type": "code",
   "execution_count": 134,
   "metadata": {},
   "outputs": [
    {
     "data": {
      "text/plain": [
       "<tf.Tensor: shape=(128,), dtype=int64, numpy=\n",
       "array([  21,    7, 1294,  868,   16,  349,  859,  261,    8,  114,  435,\n",
       "         62,  207,   10, 2056,  396,   11, 2596,  327,  433,    3,  646,\n",
       "       1197, 1197, 1197,   11,  650,   19,  143,  504,    6,  273,   11,\n",
       "          8,   28,    3,  305,  135,  119,  157,   16,   90,   20,  492,\n",
       "          6,   82,   34,    4,  403,  314,  438,  545,  359,   12,    3,\n",
       "        604,   82,   24,    4,  221,   19,   14,  619, 1289, 2524,    8,\n",
       "        393,   20,  308,   29,   18,   11,   63,  559,  115,   25,  318,\n",
       "         25,   13,    8,  128,    9,   50,  537,   16,   86,   60,   86,\n",
       "         60,   42,  103,   15,  993,  823,    7,  487,  239,    4,   72,\n",
       "        352,  397,  114,   16,  244,   42,  227,  149,  100,  505,   26,\n",
       "         13,  836,  162,   64,   98,   18,    2,    9,   11,   20,   53,\n",
       "         28,  548,    6,    8,   19,    3,   22])>"
      ]
     },
     "execution_count": 134,
     "metadata": {},
     "output_type": "execute_result"
    }
   ],
   "source": [
    "example_tokens[0]"
   ]
  },
  {
   "cell_type": "code",
   "execution_count": 135,
   "metadata": {
    "id": "98g9rcxGQY0I"
   },
   "outputs": [
    {
     "data": {
      "text/plain": [
       "'[START] に 街 並 ね 太 陽 鳥 な コ ハ ク 酸 も 辻 番 と 抹 茶 塩 で 七 〇 〇 〇 と 笑 い ジ ワ が 何 と な く で 東 山 時 代 ね 取 り 説 が 付 人 の 特 別 研 究 員 ま で 寝 付 き の 良 い よ 岩 沢 瀉 な 乗 り 着 け る と 気 象 レ ー ダ ー は な ず ら え 歌 ね わ ん わ ん 物 語 や 餅 麦 に 雨 後 の タ ケ ノ コ ね 先 物 オ プ シ ョ ン は 存 じ 上 げ る か ら と り つ く 島 が な い で [END]'"
      ]
     },
     "execution_count": 135,
     "metadata": {},
     "output_type": "execute_result"
    }
   ],
   "source": [
    "context_vocab = np.array(context_text_processor.get_vocabulary())\n",
    "tokens = context_vocab[example_tokens[0].numpy()]\n",
    "' '.join(tokens)"
   ]
  },
  {
   "cell_type": "markdown",
   "metadata": {
    "id": "Ot0aCL9t-Ghi"
   },
   "source": [
    "The returned token IDs are zero-padded. This can easily be turned into a mask:"
   ]
  },
  {
   "cell_type": "code",
   "execution_count": 136,
   "metadata": {
    "id": "_jx4Or_eFRSz"
   },
   "outputs": [
    {
     "data": {
      "text/plain": [
       "Text(0.5, 1.0, 'Mask')"
      ]
     },
     "execution_count": 136,
     "metadata": {},
     "output_type": "execute_result"
    },
    {
     "data": {
      "image/png": "[encoded data removed]",
      "text/plain": [
       "<Figure size 640x480 with 2 Axes>"
      ]
     },
     "metadata": {},
     "output_type": "display_data"
    }
   ],
   "source": [
    "plt.subplot(1, 2, 1)\n",
    "plt.pcolormesh(example_tokens.to_tensor())\n",
    "plt.title('Token IDs')\n",
    "\n",
    "plt.subplot(1, 2, 2)\n",
    "plt.pcolormesh(example_tokens.to_tensor() != 0)\n",
    "plt.title('Mask')"
   ]
  },
  {
   "cell_type": "markdown",
   "metadata": {
    "id": "3O0B4XdFlRgc"
   },
   "source": [
    "### Process the dataset\n",
    "\n"
   ]
  },
  {
   "cell_type": "markdown",
   "metadata": {
    "id": "rVCuyuSp_whd"
   },
   "source": [
    "The `process_text` function below converts the `Datasets` of strings, into  0-padded tensors of token IDs. It also converts from a `(context, target)` pair to an `((context, target_in), target_out)` pair for training with `keras.Model.fit`. Keras expects `(inputs, labels)` pairs, the inputs are the `(context, target_in)` and the labels are `target_out`. The difference between `target_in` and `target_out` is that they are shifted by one step relative to eachother, so that at each location the label is the next token."
   ]
  },
  {
   "cell_type": "code",
   "execution_count": 137,
   "metadata": {
    "id": "wk5tbZWQl5u1"
   },
   "outputs": [],
   "source": [
    "def process_text(context, target):\n",
    "  context = context_text_processor(context).to_tensor()\n",
    "  target = target_text_processor(target)\n",
    "  targ_in = target[:,:-1].to_tensor()\n",
    "  targ_out = target[:,1:].to_tensor()\n",
    "  return (context, targ_in), targ_out\n",
    "\n",
    "\n",
    "train_ds = train_raw.map(process_text, tf.data.AUTOTUNE)\n",
    "val_ds = val_raw.map(process_text, tf.data.AUTOTUNE)"
   ]
  },
  {
   "cell_type": "markdown",
   "metadata": {
    "id": "4iGi7X2m_tbM"
   },
   "source": [
    "Here is the first sequence of each, from the first batch:"
   ]
  },
  {
   "cell_type": "code",
   "execution_count": 138,
   "metadata": {
    "id": "woQBWAjLsJkr"
   },
   "outputs": [
    {
     "name": "stdout",
     "output_type": "stream",
     "text": [
      "['[START]' 'や' '控' 'え' '壁' 'で' '紙' '鳶' 'か' '喧']\n",
      "\n",
      "['ん' 'ー' 'っ' 'を' 'イ' 'を' 'カ' 'も' 'ね' 'ン']\n",
      "['ー' 'っ' 'を' 'イ' 'を' 'カ' 'も' 'ね' 'ン' 'を']\n"
     ]
    },
    {
     "name": "stderr",
     "output_type": "stream",
     "text": [
      "2024-06-30 21:03:55.640482: W tensorflow/core/framework/local_rendezvous.cc:404] Local rendezvous is aborting with status: OUT_OF_RANGE: End of sequence\n"
     ]
    }
   ],
   "source": [
    "for (ex_context_tok, ex_tar_in), ex_tar_out in train_ds.take(1):\n",
    "  print(context_vocab[ex_context_tok[0, :10].numpy()]) \n",
    "  print()\n",
    "  print(context_vocab[ex_tar_in[0, :10].numpy()]) \n",
    "  print(context_vocab[ex_tar_out[0, :10].numpy()]) "
   ]
  },
  {
   "cell_type": "markdown",
   "metadata": {
    "id": "TNfHIF71ulLu"
   },
   "source": [
    "## The encoder/decoder\n",
    "\n",
    "The following diagrams shows an overview of the model. In both the encoder is on the left, the decoder is on the right. At each time-step the decoder's output is combined with the encoder's output, to predict the next word. \n",
    "\n",
    "The original [left] contains a few extra connections that are intentionally omitted from this tutorial's model [right], as they are generally unnecessary, and difficult to implement. Those missing connections are:\n",
    "\n",
    "1. Feeding the state from the encoder's RNN to the decoder's RNN\n",
    "2. Feeding the attention output back to the RNN's input.\n",
    "\n",
    "<table>\n",
    "<tr>\n",
    "  <td>\n",
    "   <img width=500 src=\"https://www.tensorflow.org/images/seq2seq/attention_mechanism.jpg\"/>\n",
    "  </td>\n",
    "  <td>\n",
    "   <img width=380 src=\"https://www.tensorflow.org/images/tutorials/transformer/RNN+attention.png\"/>\n",
    "  </td>\n",
    "</tr>\n",
    "<tr>\n",
    "  <th colspan=1>The original from <a href=https://arxiv.org/abs/1508.04025v5>Effective Approaches to Attention-based Neural Machine Translation</a></th>\n",
    "  <th colspan=1>This tutorial's model</th>\n",
    "<tr>\n",
    "</table>\n"
   ]
  },
  {
   "cell_type": "markdown",
   "metadata": {
    "id": "gzQWx2saImMV"
   },
   "source": [
    "Before getting into it define constants for the model:"
   ]
  },
  {
   "cell_type": "code",
   "execution_count": 139,
   "metadata": {
    "id": "_a9uNz3-IrF-"
   },
   "outputs": [],
   "source": [
    "UNITS = 256"
   ]
  },
  {
   "cell_type": "markdown",
   "metadata": {
    "id": "blNgVbLSzpsr"
   },
   "source": [
    "### The encoder\n",
    "\n",
    "The goal of the encoder is to process the context sequence into a sequence of vectors that are useful for the decoder as it attempts to predict the next output for each timestep. Since the context sequence is constant, there is no restriction on how information can flow in the encoder, so use a bidirectional-RNN to do the processing:\n",
    "\n",
    "<table>\n",
    "<tr>\n",
    "  <td>\n",
    "   <img width=500 src=\"https://tensorflow.org/images/tutorials/transformer/RNN-bidirectional.png\"/>\n",
    "  </td>\n",
    "</tr>\n",
    "<tr>\n",
    "  <th>A bidirectional RNN</th>\n",
    "<tr>\n",
    "</table>\n",
    "\n",
    "The encoder:\n",
    "\n",
    "1. Takes a list of token IDs (from `context_text_processor`).\n",
    "3. Looks up an embedding vector for each token (Using a `layers.Embedding`).\n",
    "4. Processes the embeddings into a new sequence (Using a bidirectional `layers.GRU`).\n",
    "5. Returns the processed sequence. This will be passed to the attention head."
   ]
  },
  {
   "cell_type": "code",
   "execution_count": 140,
   "metadata": {
    "id": "nZ2rI24i3jFg"
   },
   "outputs": [],
   "source": [
    "class Encoder(tf.keras.layers.Layer):\n",
    "  def __init__(self, text_processor, units):\n",
    "    super(Encoder, self).__init__()\n",
    "    self.text_processor = text_processor\n",
    "    self.vocab_size = text_processor.vocabulary_size()\n",
    "    self.units = units\n",
    "    \n",
    "    # The embedding layer converts tokens to vectors\n",
    "    self.embedding = tf.keras.layers.Embedding(self.vocab_size, units,\n",
    "                                               mask_zero=True)\n",
    "\n",
    "    # The RNN layer processes those vectors sequentially.\n",
    "    self.rnn = tf.keras.layers.Bidirectional(\n",
    "        merge_mode='sum',\n",
    "        layer=tf.keras.layers.GRU(units,\n",
    "                            # Return the sequence and state\n",
    "                            return_sequences=True,\n",
    "                            recurrent_initializer='glorot_uniform'))\n",
    "\n",
    "  def call(self, x):\n",
    "    shape_checker = ShapeChecker()\n",
    "    shape_checker(x, 'batch s')\n",
    "\n",
    "    # 2. The embedding layer looks up the embedding vector for each token.\n",
    "    x = self.embedding(x)\n",
    "    shape_checker(x, 'batch s units')\n",
    "\n",
    "    # 3. The GRU processes the sequence of embeddings.\n",
    "    x = self.rnn(x)\n",
    "    shape_checker(x, 'batch s units')\n",
    "\n",
    "    # 4. Returns the new sequence of embeddings.\n",
    "    return x\n",
    "\n",
    "  def convert_input(self, texts):\n",
    "    texts = tf.convert_to_tensor(texts)\n",
    "    if len(texts.shape) == 0:\n",
    "      texts = tf.convert_to_tensor(texts)[tf.newaxis]\n",
    "    context = self.text_processor(texts).to_tensor()\n",
    "    context = self(context)\n",
    "    return context"
   ]
  },
  {
   "cell_type": "markdown",
   "metadata": {
    "id": "D3SKkaQeGn-Q"
   },
   "source": [
    "Try it out:"
   ]
  },
  {
   "cell_type": "code",
   "execution_count": 141,
   "metadata": {
    "id": "60gSVh05Jl6l"
   },
   "outputs": [
    {
     "name": "stdout",
     "output_type": "stream",
     "text": [
      "Context tokens, shape (batch, s): (64, 196)\n",
      "Encoder output, shape (batch, s, units): (64, 196, 256)\n"
     ]
    }
   ],
   "source": [
    "# Encode the input sequence.\n",
    "encoder = Encoder(context_text_processor, UNITS)\n",
    "ex_context = encoder(ex_context_tok)\n",
    "\n",
    "print(f'Context tokens, shape (batch, s): {ex_context_tok.shape}')\n",
    "print(f'Encoder output, shape (batch, s, units): {ex_context.shape}')"
   ]
  },
  {
   "cell_type": "markdown",
   "metadata": {
    "id": "45xM_Gl1MgXY"
   },
   "source": [
    "### The attention layer\n",
    "\n",
    "The attention layer lets the decoder access the information extracted by the encoder. It computes a vector from the entire context sequence, and adds that to the decoder's output. \n",
    "\n",
    "The simplest way you could calculate a single vector from the entire sequence would be to take the average across the sequence (`layers.GlobalAveragePooling1D`). An attention layer is similar, but calculates a **weighted** average across the context sequence. Where the weights are calculated from the combination of context and \"query\" vectors.\n",
    "\n",
    "<table>\n",
    "<tr>\n",
    "  <td>\n",
    "   <img width=500 src=\"https://www.tensorflow.org/images/tutorials/transformer/CrossAttention-new-full.png\"/>\n",
    "  </td>\n",
    "</tr>\n",
    "<tr>\n",
    "  <th colspan=1>The attention layer</th>\n",
    "<tr>\n",
    "</table>"
   ]
  },
  {
   "cell_type": "code",
   "execution_count": 142,
   "metadata": {
    "id": "-Ql3ymqwD8LS"
   },
   "outputs": [],
   "source": [
    "class CrossAttention(tf.keras.layers.Layer):\n",
    "  def __init__(self, units, **kwargs):\n",
    "    super().__init__()\n",
    "    self.mha = tf.keras.layers.MultiHeadAttention(key_dim=units, num_heads=1, **kwargs)\n",
    "    self.layernorm = tf.keras.layers.LayerNormalization()\n",
    "    self.add = tf.keras.layers.Add()\n",
    "\n",
    "  def call(self, x, context):\n",
    "    shape_checker = ShapeChecker()\n",
    " \n",
    "    shape_checker(x, 'batch t units')\n",
    "    shape_checker(context, 'batch s units')\n",
    "\n",
    "    attn_output, attn_scores = self.mha(\n",
    "        query=x,\n",
    "        value=context,\n",
    "        return_attention_scores=True)\n",
    "    \n",
    "    shape_checker(x, 'batch t units')\n",
    "    shape_checker(attn_scores, 'batch heads t s')\n",
    "    \n",
    "    # Cache the attention scores for plotting later.\n",
    "    attn_scores = tf.reduce_mean(attn_scores, axis=1)\n",
    "    shape_checker(attn_scores, 'batch t s')\n",
    "    self.last_attention_weights = attn_scores\n",
    "\n",
    "    x = self.add([x, attn_output])\n",
    "    x = self.layernorm(x)\n",
    "\n",
    "    return x"
   ]
  },
  {
   "cell_type": "code",
   "execution_count": 143,
   "metadata": {
    "id": "7y7hjPkNMmHh"
   },
   "outputs": [
    {
     "name": "stdout",
     "output_type": "stream",
     "text": [
      "Context sequence, shape (batch, s, units): (64, 196, 256)\n",
      "Target sequence, shape (batch, t, units): (64, 294, 256)\n",
      "Attention result, shape (batch, t, units): (64, 294, 256)\n",
      "Attention weights, shape (batch, t, s):    (64, 294, 196)\n"
     ]
    },
    {
     "name": "stderr",
     "output_type": "stream",
     "text": [
      "/Users/danielchan/miniconda3/lib/python3.11/site-packages/keras/src/layers/layer.py:915: UserWarning: Layer 'cross_attention_6' (of type CrossAttention) was passed an input with a mask attached to it. However, this layer does not support masking and will therefore destroy the mask information. Downstream layers will not see the mask.\n",
      "  warnings.warn(\n"
     ]
    }
   ],
   "source": [
    "attention_layer = CrossAttention(UNITS)\n",
    "\n",
    "# Attend to the encoded tokens\n",
    "embed = tf.keras.layers.Embedding(target_text_processor.vocabulary_size(),\n",
    "                                  output_dim=UNITS, mask_zero=True)\n",
    "ex_tar_embed = embed(ex_tar_in)\n",
    "\n",
    "result = attention_layer(ex_tar_embed, ex_context)\n",
    "\n",
    "print(f'Context sequence, shape (batch, s, units): {ex_context.shape}')\n",
    "print(f'Target sequence, shape (batch, t, units): {ex_tar_embed.shape}')\n",
    "print(f'Attention result, shape (batch, t, units): {result.shape}')\n",
    "print(f'Attention weights, shape (batch, t, s):    {attention_layer.last_attention_weights.shape}')"
   ]
  },
  {
   "cell_type": "markdown",
   "metadata": {
    "id": "vx9fUhi3Pmwp"
   },
   "source": [
    "The attention weights will sum to `1` over the context sequence, at each location in the target sequence."
   ]
  },
  {
   "cell_type": "code",
   "execution_count": 144,
   "metadata": {
    "id": "zxyR7cmQPn9P"
   },
   "outputs": [
    {
     "data": {
      "text/plain": [
       "array([1.        , 1.        , 1.        , 1.        , 1.        ,\n",
       "       1.        , 1.0000001 , 1.        , 1.        , 1.        ,\n",
       "       1.        , 1.        , 1.        , 1.        , 1.0000001 ,\n",
       "       1.0000001 , 1.        , 1.0000001 , 1.        , 1.        ,\n",
       "       1.0000001 , 1.        , 1.        , 1.        , 1.0000001 ,\n",
       "       1.        , 1.        , 1.        , 1.        , 1.        ,\n",
       "       1.        , 1.0000001 , 1.        , 1.0000001 , 1.        ,\n",
       "       1.        , 1.0000001 , 1.0000001 , 1.0000001 , 1.        ,\n",
       "       0.9999999 , 1.        , 1.        , 1.        , 1.        ,\n",
       "       1.0000001 , 0.99999994, 1.        , 1.        , 1.        ,\n",
       "       1.        , 1.        , 1.        , 1.0000001 , 1.        ,\n",
       "       1.        , 1.        , 1.        , 1.        , 1.        ,\n",
       "       1.        , 0.9999998 , 1.0000001 , 1.        , 1.        ,\n",
       "       1.        , 1.        , 1.        , 1.        , 1.        ,\n",
       "       1.        , 1.0000001 , 1.        , 1.        , 1.0000001 ,\n",
       "       1.        , 1.        , 1.0000001 , 1.        , 1.        ,\n",
       "       1.        , 1.        , 1.        , 1.        , 0.99999994,\n",
       "       1.        , 1.        , 1.        , 1.0000001 , 0.99999994,\n",
       "       1.        , 1.        , 0.99999994, 1.0000001 , 1.        ,\n",
       "       1.0000001 , 1.        , 1.0000001 , 1.        , 1.        ,\n",
       "       1.        , 0.9999998 , 1.0000001 , 1.        , 1.        ,\n",
       "       1.        , 1.        , 1.        , 1.        , 0.9999998 ,\n",
       "       1.0000001 , 1.        , 1.        , 1.        , 0.99999994,\n",
       "       1.        , 0.9999999 , 1.        , 1.0000001 , 1.        ,\n",
       "       1.0000001 , 1.0000001 , 0.9999998 , 0.99999994, 1.0000001 ,\n",
       "       1.        , 1.        , 0.9999999 , 0.9999998 , 1.        ,\n",
       "       1.        , 1.        , 1.0000001 , 1.        , 1.        ,\n",
       "       1.0000001 , 0.99999994, 1.        , 1.        , 1.        ,\n",
       "       1.        , 1.        , 1.        , 1.        , 1.0000001 ,\n",
       "       1.0000001 , 1.        , 1.        , 1.        , 1.0000001 ,\n",
       "       0.9999999 , 1.        , 0.99999994, 1.        , 1.        ,\n",
       "       0.99999994, 0.9999999 , 1.        , 1.        , 0.99999994,\n",
       "       1.        , 1.        , 1.        , 1.        , 0.9999999 ,\n",
       "       1.        , 1.        , 1.        , 1.        , 1.        ,\n",
       "       1.        , 0.99999994, 1.0000001 , 0.99999994, 1.        ,\n",
       "       1.        , 1.        , 0.9999998 , 1.0000001 , 1.        ,\n",
       "       1.0000001 , 1.        , 1.        , 1.        , 0.99999994,\n",
       "       1.        , 1.        , 1.        , 0.9999999 , 0.9999998 ,\n",
       "       1.        , 1.0000001 , 1.        , 1.0000001 , 1.        ,\n",
       "       1.        , 1.        , 0.99999994, 1.        , 1.        ,\n",
       "       1.        , 1.        , 0.9999998 , 1.        , 1.        ,\n",
       "       0.9999998 , 1.        , 1.        , 1.0000001 , 0.9999999 ,\n",
       "       0.9999998 , 1.        , 1.        , 1.        , 1.        ,\n",
       "       1.0000001 , 1.        , 1.        , 1.        , 1.        ,\n",
       "       1.        , 0.9999998 , 1.        , 1.0000001 , 0.9999999 ,\n",
       "       1.0000001 , 1.0000001 , 1.        , 1.        , 1.        ,\n",
       "       0.99999994, 1.        , 1.        , 1.        , 1.        ,\n",
       "       1.        , 1.        , 1.        , 1.0000001 , 1.        ,\n",
       "       1.        , 1.0000001 , 1.        , 1.        , 1.0000001 ,\n",
       "       1.        , 1.        , 0.99999994, 1.        , 1.        ,\n",
       "       1.        , 1.        , 0.9999998 , 1.        , 1.        ,\n",
       "       0.99999994, 1.0000001 , 1.0000001 , 1.        , 1.        ,\n",
       "       1.        , 1.        , 1.0000001 , 0.9999999 , 1.        ,\n",
       "       1.        , 1.        , 1.0000001 , 1.        , 1.        ,\n",
       "       1.        , 1.0000001 , 1.0000001 , 1.0000001 , 1.0000001 ,\n",
       "       1.0000001 , 1.0000001 , 1.0000001 , 1.0000001 , 1.0000001 ,\n",
       "       1.0000001 , 1.0000001 , 1.0000001 , 1.0000001 , 1.0000001 ,\n",
       "       1.0000001 , 1.0000001 , 1.0000001 , 1.0000001 , 1.0000001 ,\n",
       "       1.0000001 , 1.0000001 , 1.0000001 , 1.0000001 ], dtype=float32)"
      ]
     },
     "execution_count": 144,
     "metadata": {},
     "output_type": "execute_result"
    }
   ],
   "source": [
    "attention_layer.last_attention_weights[0].numpy().sum(axis=-1)"
   ]
  },
  {
   "cell_type": "markdown",
   "metadata": {
    "id": "AagyXMH-Jhqt"
   },
   "source": [
    "\n",
    "\n",
    "Here are the attention weights across the context sequences at `t=0`:"
   ]
  },
  {
   "cell_type": "code",
   "execution_count": 145,
   "metadata": {
    "id": "Rqr8XGsAJlf6"
   },
   "outputs": [
    {
     "data": {
      "image/png": "[encoded data removed]",
      "text/plain": [
       "<Figure size 640x480 with 2 Axes>"
      ]
     },
     "metadata": {},
     "output_type": "display_data"
    }
   ],
   "source": [
    "attention_weights = attention_layer.last_attention_weights\n",
    "mask=(ex_context_tok != 0).numpy()\n",
    "\n",
    "plt.subplot(1, 2, 1)\n",
    "plt.pcolormesh(mask*attention_weights[:, 0, :])\n",
    "plt.title('Attention weights')\n",
    "\n",
    "plt.subplot(1, 2, 2)\n",
    "plt.pcolormesh(mask)\n",
    "plt.title('Mask');\n"
   ]
  },
  {
   "cell_type": "markdown",
   "metadata": {
    "id": "6Eil-C_NN1rp"
   },
   "source": [
    "Because of the small-random initialization the attention weights are initially all close to `1/(sequence_length)`. The model will learn to make these less uniform as training progresses."
   ]
  },
  {
   "cell_type": "markdown",
   "metadata": {
    "id": "aQ638eHN4iCK"
   },
   "source": [
    "### The decoder\n",
    "\n",
    "The decoder's job is to generate predictions for the next token at each location in the target sequence.\n",
    "\n",
    "1. It looks up embeddings for each token in the target sequence.\n",
    "2. It uses an RNN to process the target sequence, and keep track of what it has generated so far.\n",
    "3. It uses RNN output as the \"query\" to the attention layer, when attending to the encoder's output.\n",
    "4. At each location in the output it predicts the next token.\n",
    "\n",
    "When training, the model predicts the next word at each location. So it's important that the information only flows in one direction through the model. The decoder uses a unidirectional (not bidirectional) RNN to process the target sequence.\n",
    "\n",
    "When running inference with this model it produces one word at a time, and those are fed back into the model.\n",
    "\n",
    "<table>\n",
    "<tr>\n",
    "  <td>\n",
    "   <img width=500 src=\"https://tensorflow.org/images/tutorials/transformer/RNN.png\"/>\n",
    "  </td>\n",
    "</tr>\n",
    "<tr>\n",
    "  <th>A unidirectional RNN</th>\n",
    "<tr>\n",
    "</table>"
   ]
  },
  {
   "cell_type": "markdown",
   "metadata": {
    "id": "pZsQJMqNmg_L"
   },
   "source": [
    "Here is the `Decoder` class' initializer. The initializer creates all the necessary layers."
   ]
  },
  {
   "cell_type": "code",
   "execution_count": 146,
   "metadata": {
    "id": "erYvHIgAl8kh"
   },
   "outputs": [],
   "source": [
    "class Decoder(tf.keras.layers.Layer):\n",
    "  @classmethod\n",
    "  def add_method(cls, fun):\n",
    "    setattr(cls, fun.__name__, fun)\n",
    "    return fun\n",
    "\n",
    "  def __init__(self, text_processor, units):\n",
    "    super(Decoder, self).__init__()\n",
    "    self.text_processor = text_processor\n",
    "    self.vocab_size = text_processor.vocabulary_size()\n",
    "    self.word_to_id = tf.keras.layers.StringLookup(\n",
    "        vocabulary=text_processor.get_vocabulary(),\n",
    "        mask_token='', oov_token='[UNK]')\n",
    "    self.id_to_word = tf.keras.layers.StringLookup(\n",
    "        vocabulary=text_processor.get_vocabulary(),\n",
    "        mask_token='', oov_token='[UNK]',\n",
    "        invert=True)\n",
    "    self.start_token = self.word_to_id('[START]')\n",
    "    self.end_token = self.word_to_id('[END]')\n",
    "\n",
    "    self.units = units\n",
    "\n",
    "\n",
    "    # 1. The embedding layer converts token IDs to vectors\n",
    "    self.embedding = tf.keras.layers.Embedding(self.vocab_size,\n",
    "                                               units, mask_zero=True)\n",
    "\n",
    "    # 2. The RNN keeps track of what's been generated so far.\n",
    "    self.rnn = tf.keras.layers.GRU(units,\n",
    "                                   return_sequences=True,\n",
    "                                   return_state=True,\n",
    "                                   recurrent_initializer='glorot_uniform')\n",
    "\n",
    "    # 3. The RNN output will be the query for the attention layer.\n",
    "    self.attention = CrossAttention(units)\n",
    "\n",
    "    # 4. This fully connected layer produces the logits for each\n",
    "    # output token.\n",
    "    self.output_layer = tf.keras.layers.Dense(self.vocab_size)"
   ]
  },
  {
   "cell_type": "markdown",
   "metadata": {
    "id": "Sd8-nRNzFR8x"
   },
   "source": [
    "#### Training"
   ]
  },
  {
   "cell_type": "markdown",
   "metadata": {
    "id": "UPnaw583CpnY"
   },
   "source": [
    "Next, the `call` method, takes 3 arguments:\n",
    "\n",
    "* `inputs` -  a `context, x` pair where:\n",
    "  * `context` - is the context from the encoder's output.\n",
    "  * `x` - is the target sequence input.\n",
    "* `state` - Optional, the previous `state` output from the decoder (the internal state of the decoder's RNN). Pass the state from a previous run to continue generating text where you left off.\n",
    "* `return_state` - [Default: False] - Set this to `True` to return the RNN state. "
   ]
  },
  {
   "cell_type": "code",
   "execution_count": 147,
   "metadata": {
    "id": "PJOi5btHAPNK"
   },
   "outputs": [],
   "source": [
    "@Decoder.add_method\n",
    "def call(self,\n",
    "         context, x,\n",
    "         state=None,\n",
    "         return_state=False):  \n",
    "  shape_checker = ShapeChecker()\n",
    "  shape_checker(x, 'batch t')\n",
    "  shape_checker(context, 'batch s units')\n",
    "\n",
    "  # 1. Lookup the embeddings\n",
    "  x = self.embedding(x)\n",
    "  shape_checker(x, 'batch t units')\n",
    "\n",
    "  # 2. Process the target sequence.\n",
    "  x, state = self.rnn(x, initial_state=state)\n",
    "  shape_checker(x, 'batch t units')\n",
    "\n",
    "  # 3. Use the RNN output as the query for the attention over the context.\n",
    "  x = self.attention(x, context)\n",
    "  self.last_attention_weights = self.attention.last_attention_weights\n",
    "  shape_checker(x, 'batch t units')\n",
    "  shape_checker(self.last_attention_weights, 'batch t s')\n",
    "\n",
    "  # Step 4. Generate logit predictions for the next token.\n",
    "  logits = self.output_layer(x)\n",
    "  shape_checker(logits, 'batch t target_vocab_size')\n",
    "\n",
    "  if return_state:\n",
    "    return logits, state\n",
    "  else:\n",
    "    return logits"
   ]
  },
  {
   "cell_type": "markdown",
   "metadata": {
    "id": "E1-mLAcUEXpK"
   },
   "source": [
    "That will be sufficient for training. Create an instance of the decoder to test out:"
   ]
  },
  {
   "cell_type": "code",
   "execution_count": 148,
   "metadata": {
    "id": "4ZUMbYXIEVeA"
   },
   "outputs": [],
   "source": [
    "decoder = Decoder(target_text_processor, UNITS)"
   ]
  },
  {
   "cell_type": "markdown",
   "metadata": {
    "id": "SFWaI4wqzt4t"
   },
   "source": [
    "In training you'll use the decoder like this:\n",
    "\n",
    "Given the context and target tokens, for each target token it predicts the next target token. "
   ]
  },
  {
   "cell_type": "code",
   "execution_count": 149,
   "metadata": {
    "id": "5YM-lD7bzx18"
   },
   "outputs": [
    {
     "name": "stderr",
     "output_type": "stream",
     "text": [
      "/Users/danielchan/miniconda3/lib/python3.11/site-packages/keras/src/layers/layer.py:915: UserWarning: Layer 'cross_attention_7' (of type CrossAttention) was passed an input with a mask attached to it. However, this layer does not support masking and will therefore destroy the mask information. Downstream layers will not see the mask.\n",
      "  warnings.warn(\n",
      "/Users/danielchan/miniconda3/lib/python3.11/site-packages/keras/src/layers/layer.py:372: UserWarning: `build()` was called on layer 'decoder_4', however the layer does not have a `build()` method implemented and it looks like it has unbuilt state. This will cause the layer to be marked as built, despite not being actually built, which may cause failures down the line. Make sure to implement a proper `build()` method.\n",
      "  warnings.warn(\n"
     ]
    },
    {
     "name": "stdout",
     "output_type": "stream",
     "text": [
      "encoder output shape: (batch, s, units) (64, 196, 256)\n",
      "input target tokens shape: (batch, t) (64, 294)\n",
      "logits shape shape: (batch, target_vocabulary_size) (64, 294, 172)\n"
     ]
    },
    {
     "name": "stderr",
     "output_type": "stream",
     "text": [
      "/Users/danielchan/miniconda3/lib/python3.11/site-packages/keras/src/layers/layer.py:915: UserWarning: Layer 'decoder_4' (of type Decoder) was passed an input with a mask attached to it. However, this layer does not support masking and will therefore destroy the mask information. Downstream layers will not see the mask.\n",
      "  warnings.warn(\n"
     ]
    }
   ],
   "source": [
    "logits = decoder(ex_context, ex_tar_in)\n",
    "\n",
    "print(f'encoder output shape: (batch, s, units) {ex_context.shape}')\n",
    "print(f'input target tokens shape: (batch, t) {ex_tar_in.shape}')\n",
    "print(f'logits shape shape: (batch, target_vocabulary_size) {logits.shape}')"
   ]
  },
  {
   "cell_type": "markdown",
   "metadata": {
    "id": "zhS_tbk7VQkX"
   },
   "source": [
    "#### Inference\n",
    "\n",
    "To use it for inference you'll need a couple more methods:"
   ]
  },
  {
   "cell_type": "code",
   "execution_count": 150,
   "metadata": {
    "id": "SPm12cnIVRQr"
   },
   "outputs": [],
   "source": [
    "@Decoder.add_method\n",
    "def get_initial_state(self, context):\n",
    "  batch_size = tf.shape(context)[0]\n",
    "  start_tokens = tf.fill([batch_size, 1], self.start_token)\n",
    "  done = tf.zeros([batch_size, 1], dtype=tf.bool)\n",
    "  embedded = self.embedding(start_tokens)\n",
    "  return start_tokens, done, self.rnn.get_initial_state(batch_size)[0]"
   ]
  },
  {
   "cell_type": "code",
   "execution_count": 151,
   "metadata": {
    "id": "TzeOhpBvVS5L"
   },
   "outputs": [],
   "source": [
    "@Decoder.add_method\n",
    "def tokens_to_text(self, tokens):\n",
    "  words = self.id_to_word(tokens)\n",
    "  result = tf.strings.reduce_join(words, axis=-1, separator=' ')\n",
    "  result = tf.strings.regex_replace(result, '^ *\\[START\\] *', '')\n",
    "  result = tf.strings.regex_replace(result, ' *\\[END\\] *$', '')\n",
    "  return result"
   ]
  },
  {
   "cell_type": "code",
   "execution_count": 152,
   "metadata": {
    "id": "v6ildnz_V1MA"
   },
   "outputs": [],
   "source": [
    "@Decoder.add_method\n",
    "def get_next_token(self, context, next_token, done, state, temperature = 0.0):\n",
    "  logits, state = self(\n",
    "    context, next_token,\n",
    "    state = state,\n",
    "    return_state=True) \n",
    "  \n",
    "  if temperature == 0.0:\n",
    "    next_token = tf.argmax(logits, axis=-1)\n",
    "  else:\n",
    "    logits = logits[:, -1, :]/temperature\n",
    "    next_token = tf.random.categorical(logits, num_samples=1)\n",
    "\n",
    "  # If a sequence produces an `end_token`, set it `done`\n",
    "  done = done | (next_token == self.end_token)\n",
    "  # Once a sequence is done it only produces 0-padding.\n",
    "  next_token = tf.where(done, tf.constant(0, dtype=tf.int64), next_token)\n",
    "  \n",
    "  return next_token, done, state"
   ]
  },
  {
   "cell_type": "markdown",
   "metadata": {
    "id": "9WiXLrVs-FTE"
   },
   "source": [
    "With those extra functions, you can write a generation loop:"
   ]
  },
  {
   "cell_type": "code",
   "execution_count": 153,
   "metadata": {
    "id": "SuehagxL-JBZ"
   },
   "outputs": [],
   "source": [
    "# Setup the loop variables.\n",
    "next_token, done, state = decoder.get_initial_state(ex_context)\n",
    "tokens = []\n",
    "\n",
    "for n in range(10):\n",
    "  # Run one step.\n",
    "  next_token, done, state = decoder.get_next_token(\n",
    "      ex_context, next_token, done, state, temperature=1.0)\n",
    "  # Add the token to the output.\n",
    "  tokens.append(next_token)\n",
    "\n",
    "# Stack all the tokens together.\n",
    "tokens = tf.concat(tokens, axis=-1) # (batch, t)\n",
    "\n",
    "# Convert the tokens back to a a string\n",
    "result = decoder.tokens_to_text(tokens)\n",
    "# result[:3].numpy()"
   ]
  },
  {
   "cell_type": "markdown",
   "metadata": {
    "id": "5ALTdqCMLGSY"
   },
   "source": [
    "Since the model's untrained, it outputs items from the vocabulary almost uniformly at random."
   ]
  },
  {
   "cell_type": "markdown",
   "metadata": {
    "id": "B6xyru86m914"
   },
   "source": [
    "## The model\n",
    "\n",
    "Now that you have all the model components, combine them to build the model for training:"
   ]
  },
  {
   "cell_type": "code",
   "execution_count": 154,
   "metadata": {
    "id": "WWIyuy71TkJT"
   },
   "outputs": [],
   "source": [
    "class Translator(tf.keras.Model):\n",
    "  @classmethod\n",
    "  def add_method(cls, fun):\n",
    "    setattr(cls, fun.__name__, fun)\n",
    "    return fun\n",
    "\n",
    "  def __init__(self, units,\n",
    "               context_text_processor,\n",
    "               target_text_processor):\n",
    "    super().__init__()\n",
    "    # Build the encoder and decoder\n",
    "    encoder = Encoder(context_text_processor, units)\n",
    "    decoder = Decoder(target_text_processor, units)\n",
    "\n",
    "    self.encoder = encoder\n",
    "    self.decoder = decoder\n",
    "\n",
    "  def call(self, inputs):\n",
    "    context, x = inputs\n",
    "    context = self.encoder(context)\n",
    "    logits = self.decoder(context, x)\n",
    "\n",
    "    #TODO(b/250038731): remove this\n",
    "    try:\n",
    "      # Delete the keras mask, so keras doesn't scale the loss+accuracy. \n",
    "      del logits._keras_mask\n",
    "    except AttributeError:\n",
    "      pass\n",
    "\n",
    "    return logits"
   ]
  },
  {
   "cell_type": "markdown",
   "metadata": {
    "id": "5rPi0FkS2iA5"
   },
   "source": [
    "During training the model will be used like this:"
   ]
  },
  {
   "cell_type": "code",
   "execution_count": 155,
   "metadata": {
    "id": "8vhjTh84K6Mg"
   },
   "outputs": [
    {
     "name": "stderr",
     "output_type": "stream",
     "text": [
      "/Users/danielchan/miniconda3/lib/python3.11/site-packages/keras/src/layers/layer.py:915: UserWarning: Layer 'cross_attention_8' (of type CrossAttention) was passed an input with a mask attached to it. However, this layer does not support masking and will therefore destroy the mask information. Downstream layers will not see the mask.\n",
      "  warnings.warn(\n",
      "/Users/danielchan/miniconda3/lib/python3.11/site-packages/keras/src/layers/layer.py:372: UserWarning: `build()` was called on layer 'decoder_5', however the layer does not have a `build()` method implemented and it looks like it has unbuilt state. This will cause the layer to be marked as built, despite not being actually built, which may cause failures down the line. Make sure to implement a proper `build()` method.\n",
      "  warnings.warn(\n",
      "/Users/danielchan/miniconda3/lib/python3.11/site-packages/keras/src/layers/layer.py:915: UserWarning: Layer 'decoder_5' (of type Decoder) was passed an input with a mask attached to it. However, this layer does not support masking and will therefore destroy the mask information. Downstream layers will not see the mask.\n",
      "  warnings.warn(\n"
     ]
    },
    {
     "name": "stdout",
     "output_type": "stream",
     "text": [
      "Context tokens, shape: (batch, s, units) (64, 196)\n",
      "Target tokens, shape: (batch, t) (64, 294)\n",
      "logits, shape: (batch, t, target_vocabulary_size) (64, 294, 172)\n"
     ]
    }
   ],
   "source": [
    "model = Translator(UNITS, context_text_processor, target_text_processor)\n",
    "\n",
    "logits = model((ex_context_tok, ex_tar_in))\n",
    "\n",
    "print(f'Context tokens, shape: (batch, s, units) {ex_context_tok.shape}')\n",
    "print(f'Target tokens, shape: (batch, t) {ex_tar_in.shape}')\n",
    "print(f'logits, shape: (batch, t, target_vocabulary_size) {logits.shape}')"
   ]
  },
  {
   "cell_type": "markdown",
   "metadata": {
    "id": "_ch_71VbIRfK"
   },
   "source": [
    "### Train"
   ]
  },
  {
   "cell_type": "markdown",
   "metadata": {
    "id": "8FmzjGmprVmE"
   },
   "source": [
    "For training, you'll want to implement your own masked loss and accuracy functions:"
   ]
  },
  {
   "cell_type": "code",
   "execution_count": 156,
   "metadata": {
    "id": "WmTHr5iV3jFr"
   },
   "outputs": [],
   "source": [
    "def masked_loss(y_true, y_pred):\n",
    "    # Calculate the loss for each item in the batch.\n",
    "    loss_fn = tf.keras.losses.SparseCategoricalCrossentropy(\n",
    "        from_logits=True, reduction='none')\n",
    "    loss = loss_fn(y_true, y_pred)\n",
    "\n",
    "    # Mask off the losses on padding.\n",
    "    mask = tf.cast(y_true != 0, loss.dtype)\n",
    "    loss *= mask\n",
    "\n",
    "    # Return the total.\n",
    "    return tf.reduce_sum(loss)/tf.reduce_sum(mask)"
   ]
  },
  {
   "cell_type": "code",
   "execution_count": 157,
   "metadata": {
    "id": "nRB1CTmQWOIL"
   },
   "outputs": [],
   "source": [
    "def masked_acc(y_true, y_pred):\n",
    "    # Calculate the loss for each item in the batch.\n",
    "    y_pred = tf.argmax(y_pred, axis=-1)\n",
    "    y_pred = tf.cast(y_pred, y_true.dtype)\n",
    "    \n",
    "    match = tf.cast(y_true == y_pred, tf.float32)\n",
    "    mask = tf.cast(y_true != 0, tf.float32)\n",
    "    \n",
    "    return tf.reduce_sum(match)/tf.reduce_sum(mask)"
   ]
  },
  {
   "cell_type": "markdown",
   "metadata": {
    "id": "f32GuAhw2nXm"
   },
   "source": [
    "Configure the model for training:"
   ]
  },
  {
   "cell_type": "code",
   "execution_count": 158,
   "metadata": {
    "id": "9g0DRRvm3l9X"
   },
   "outputs": [],
   "source": [
    "model.compile(optimizer='adam',\n",
    "              loss=masked_loss, \n",
    "              metrics=[masked_acc, masked_loss])"
   ]
  },
  {
   "cell_type": "markdown",
   "metadata": {
    "id": "5DWLI3pssjnx"
   },
   "source": [
    "The model is randomly initialized, and should give roughly uniform output probabilities. So it's easy to predict what the initial values of the metrics should be:"
   ]
  },
  {
   "cell_type": "code",
   "execution_count": 159,
   "metadata": {
    "id": "BuP3_LFENMJG"
   },
   "outputs": [
    {
     "data": {
      "text/plain": [
       "{'expected_loss': 5.1474943, 'expected_acc': 0.005813953488372093}"
      ]
     },
     "execution_count": 159,
     "metadata": {},
     "output_type": "execute_result"
    }
   ],
   "source": [
    "vocab_size = 1.0 * target_text_processor.vocabulary_size()\n",
    "\n",
    "{\"expected_loss\": tf.math.log(vocab_size).numpy(),\n",
    " \"expected_acc\": 1/vocab_size}"
   ]
  },
  {
   "cell_type": "markdown",
   "metadata": {
    "id": "frVba49Usd0Z"
   },
   "source": [
    "That should roughly match the values returned by running a few steps of evaluation:"
   ]
  },
  {
   "cell_type": "code",
   "execution_count": 160,
   "metadata": {
    "id": "8rJITfxEsHKR"
   },
   "outputs": [
    {
     "name": "stdout",
     "output_type": "stream",
     "text": [
      "\u001b[1m20/20\u001b[0m \u001b[32m━━━━━━━━━━━━━━━━━━━━\u001b[0m\u001b[37m\u001b[0m \u001b[1m12s\u001b[0m 554ms/step - loss: 5.2121 - masked_acc: 0.0068 - masked_loss: 5.2121\n"
     ]
    },
    {
     "data": {
      "text/plain": [
       "{'loss': 5.211590766906738,\n",
       " 'masked_acc': 0.006894285790622234,\n",
       " 'masked_loss': 5.211590766906738}"
      ]
     },
     "execution_count": 160,
     "metadata": {},
     "output_type": "execute_result"
    }
   ],
   "source": [
    "model.evaluate(val_ds, steps=20, return_dict=True)"
   ]
  },
  {
   "cell_type": "code",
   "execution_count": 161,
   "metadata": {
    "id": "BQd_esVVoSf3"
   },
   "outputs": [
    {
     "name": "stdout",
     "output_type": "stream",
     "text": [
      "Epoch 1/100\n",
      "\u001b[1m100/100\u001b[0m \u001b[32m━━━━━━━━━━━━━━━━━━━━\u001b[0m\u001b[37m\u001b[0m \u001b[1m124s\u001b[0m 1s/step - loss: 3.8728 - masked_acc: 0.1537 - masked_loss: 3.8728 - val_loss: 3.4641 - val_masked_acc: 0.1886 - val_masked_loss: 3.4641\n",
      "Epoch 2/100\n",
      "\u001b[1m 37/100\u001b[0m \u001b[32m━━━━━━━\u001b[0m\u001b[37m━━━━━━━━━━━━━\u001b[0m \u001b[1m1:03\u001b[0m 1s/step - loss: 3.4537 - masked_acc: 0.1891 - masked_loss: 3.4537"
     ]
    },
    {
     "ename": "KeyboardInterrupt",
     "evalue": "",
     "output_type": "error",
     "traceback": [
      "\u001b[0;31m---------------------------------------------------------------------------\u001b[0m",
      "\u001b[0;31mKeyboardInterrupt\u001b[0m                         Traceback (most recent call last)",
      "Cell \u001b[0;32mIn[161], line 1\u001b[0m\n\u001b[0;32m----> 1\u001b[0m history \u001b[38;5;241m=\u001b[39m \u001b[43mmodel\u001b[49m\u001b[38;5;241;43m.\u001b[39;49m\u001b[43mfit\u001b[49m\u001b[43m(\u001b[49m\n\u001b[1;32m      2\u001b[0m \u001b[43m    \u001b[49m\u001b[43mtrain_ds\u001b[49m\u001b[38;5;241;43m.\u001b[39;49m\u001b[43mrepeat\u001b[49m\u001b[43m(\u001b[49m\u001b[43m)\u001b[49m\u001b[43m,\u001b[49m\u001b[43m \u001b[49m\n\u001b[1;32m      3\u001b[0m \u001b[43m    \u001b[49m\u001b[43mepochs\u001b[49m\u001b[38;5;241;43m=\u001b[39;49m\u001b[38;5;241;43m100\u001b[39;49m\u001b[43m,\u001b[49m\n\u001b[1;32m      4\u001b[0m \u001b[43m    \u001b[49m\u001b[43msteps_per_epoch\u001b[49m\u001b[43m \u001b[49m\u001b[38;5;241;43m=\u001b[39;49m\u001b[43m \u001b[49m\u001b[38;5;241;43m100\u001b[39;49m\u001b[43m,\u001b[49m\n\u001b[1;32m      5\u001b[0m \u001b[43m    \u001b[49m\u001b[43mvalidation_data\u001b[49m\u001b[38;5;241;43m=\u001b[39;49m\u001b[43mval_ds\u001b[49m\u001b[43m,\u001b[49m\n\u001b[1;32m      6\u001b[0m \u001b[43m    \u001b[49m\u001b[43mvalidation_steps\u001b[49m\u001b[43m \u001b[49m\u001b[38;5;241;43m=\u001b[39;49m\u001b[43m \u001b[49m\u001b[38;5;241;43m20\u001b[39;49m\u001b[43m,\u001b[49m\n\u001b[1;32m      7\u001b[0m \u001b[43m    \u001b[49m\u001b[43mcallbacks\u001b[49m\u001b[38;5;241;43m=\u001b[39;49m\u001b[43m[\u001b[49m\n\u001b[1;32m      8\u001b[0m \u001b[43m        \u001b[49m\u001b[43mtf\u001b[49m\u001b[38;5;241;43m.\u001b[39;49m\u001b[43mkeras\u001b[49m\u001b[38;5;241;43m.\u001b[39;49m\u001b[43mcallbacks\u001b[49m\u001b[38;5;241;43m.\u001b[39;49m\u001b[43mEarlyStopping\u001b[49m\u001b[43m(\u001b[49m\u001b[43mpatience\u001b[49m\u001b[38;5;241;43m=\u001b[39;49m\u001b[38;5;241;43m3\u001b[39;49m\u001b[43m)\u001b[49m\u001b[43m]\u001b[49m\u001b[43m)\u001b[49m\n",
      "File \u001b[0;32m~/miniconda3/lib/python3.11/site-packages/keras/src/utils/traceback_utils.py:117\u001b[0m, in \u001b[0;36mfilter_traceback.<locals>.error_handler\u001b[0;34m(*args, **kwargs)\u001b[0m\n\u001b[1;32m    115\u001b[0m filtered_tb \u001b[38;5;241m=\u001b[39m \u001b[38;5;28;01mNone\u001b[39;00m\n\u001b[1;32m    116\u001b[0m \u001b[38;5;28;01mtry\u001b[39;00m:\n\u001b[0;32m--> 117\u001b[0m     \u001b[38;5;28;01mreturn\u001b[39;00m \u001b[43mfn\u001b[49m\u001b[43m(\u001b[49m\u001b[38;5;241;43m*\u001b[39;49m\u001b[43margs\u001b[49m\u001b[43m,\u001b[49m\u001b[43m \u001b[49m\u001b[38;5;241;43m*\u001b[39;49m\u001b[38;5;241;43m*\u001b[39;49m\u001b[43mkwargs\u001b[49m\u001b[43m)\u001b[49m\n\u001b[1;32m    118\u001b[0m \u001b[38;5;28;01mexcept\u001b[39;00m \u001b[38;5;167;01mException\u001b[39;00m \u001b[38;5;28;01mas\u001b[39;00m e:\n\u001b[1;32m    119\u001b[0m     filtered_tb \u001b[38;5;241m=\u001b[39m _process_traceback_frames(e\u001b[38;5;241m.\u001b[39m__traceback__)\n",
      "File \u001b[0;32m~/miniconda3/lib/python3.11/site-packages/keras/src/backend/tensorflow/trainer.py:318\u001b[0m, in \u001b[0;36mTensorFlowTrainer.fit\u001b[0;34m(self, x, y, batch_size, epochs, verbose, callbacks, validation_split, validation_data, shuffle, class_weight, sample_weight, initial_epoch, steps_per_epoch, validation_steps, validation_batch_size, validation_freq)\u001b[0m\n\u001b[1;32m    316\u001b[0m \u001b[38;5;28;01mfor\u001b[39;00m step, iterator \u001b[38;5;129;01min\u001b[39;00m epoch_iterator\u001b[38;5;241m.\u001b[39menumerate_epoch():\n\u001b[1;32m    317\u001b[0m     callbacks\u001b[38;5;241m.\u001b[39mon_train_batch_begin(step)\n\u001b[0;32m--> 318\u001b[0m     logs \u001b[38;5;241m=\u001b[39m \u001b[38;5;28;43mself\u001b[39;49m\u001b[38;5;241;43m.\u001b[39;49m\u001b[43mtrain_function\u001b[49m\u001b[43m(\u001b[49m\u001b[43miterator\u001b[49m\u001b[43m)\u001b[49m\n\u001b[1;32m    319\u001b[0m     logs \u001b[38;5;241m=\u001b[39m \u001b[38;5;28mself\u001b[39m\u001b[38;5;241m.\u001b[39m_pythonify_logs(logs)\n\u001b[1;32m    320\u001b[0m     callbacks\u001b[38;5;241m.\u001b[39mon_train_batch_end(step, logs)\n",
      "File \u001b[0;32m~/miniconda3/lib/python3.11/site-packages/tensorflow/python/util/traceback_utils.py:150\u001b[0m, in \u001b[0;36mfilter_traceback.<locals>.error_handler\u001b[0;34m(*args, **kwargs)\u001b[0m\n\u001b[1;32m    148\u001b[0m filtered_tb \u001b[38;5;241m=\u001b[39m \u001b[38;5;28;01mNone\u001b[39;00m\n\u001b[1;32m    149\u001b[0m \u001b[38;5;28;01mtry\u001b[39;00m:\n\u001b[0;32m--> 150\u001b[0m   \u001b[38;5;28;01mreturn\u001b[39;00m \u001b[43mfn\u001b[49m\u001b[43m(\u001b[49m\u001b[38;5;241;43m*\u001b[39;49m\u001b[43margs\u001b[49m\u001b[43m,\u001b[49m\u001b[43m \u001b[49m\u001b[38;5;241;43m*\u001b[39;49m\u001b[38;5;241;43m*\u001b[39;49m\u001b[43mkwargs\u001b[49m\u001b[43m)\u001b[49m\n\u001b[1;32m    151\u001b[0m \u001b[38;5;28;01mexcept\u001b[39;00m \u001b[38;5;167;01mException\u001b[39;00m \u001b[38;5;28;01mas\u001b[39;00m e:\n\u001b[1;32m    152\u001b[0m   filtered_tb \u001b[38;5;241m=\u001b[39m _process_traceback_frames(e\u001b[38;5;241m.\u001b[39m__traceback__)\n",
      "File \u001b[0;32m~/miniconda3/lib/python3.11/site-packages/tensorflow/python/eager/polymorphic_function/polymorphic_function.py:833\u001b[0m, in \u001b[0;36mFunction.__call__\u001b[0;34m(self, *args, **kwds)\u001b[0m\n\u001b[1;32m    830\u001b[0m compiler \u001b[38;5;241m=\u001b[39m \u001b[38;5;124m\"\u001b[39m\u001b[38;5;124mxla\u001b[39m\u001b[38;5;124m\"\u001b[39m \u001b[38;5;28;01mif\u001b[39;00m \u001b[38;5;28mself\u001b[39m\u001b[38;5;241m.\u001b[39m_jit_compile \u001b[38;5;28;01melse\u001b[39;00m \u001b[38;5;124m\"\u001b[39m\u001b[38;5;124mnonXla\u001b[39m\u001b[38;5;124m\"\u001b[39m\n\u001b[1;32m    832\u001b[0m \u001b[38;5;28;01mwith\u001b[39;00m OptionalXlaContext(\u001b[38;5;28mself\u001b[39m\u001b[38;5;241m.\u001b[39m_jit_compile):\n\u001b[0;32m--> 833\u001b[0m   result \u001b[38;5;241m=\u001b[39m \u001b[38;5;28;43mself\u001b[39;49m\u001b[38;5;241;43m.\u001b[39;49m\u001b[43m_call\u001b[49m\u001b[43m(\u001b[49m\u001b[38;5;241;43m*\u001b[39;49m\u001b[43margs\u001b[49m\u001b[43m,\u001b[49m\u001b[43m \u001b[49m\u001b[38;5;241;43m*\u001b[39;49m\u001b[38;5;241;43m*\u001b[39;49m\u001b[43mkwds\u001b[49m\u001b[43m)\u001b[49m\n\u001b[1;32m    835\u001b[0m new_tracing_count \u001b[38;5;241m=\u001b[39m \u001b[38;5;28mself\u001b[39m\u001b[38;5;241m.\u001b[39mexperimental_get_tracing_count()\n\u001b[1;32m    836\u001b[0m without_tracing \u001b[38;5;241m=\u001b[39m (tracing_count \u001b[38;5;241m==\u001b[39m new_tracing_count)\n",
      "File \u001b[0;32m~/miniconda3/lib/python3.11/site-packages/tensorflow/python/eager/polymorphic_function/polymorphic_function.py:878\u001b[0m, in \u001b[0;36mFunction._call\u001b[0;34m(self, *args, **kwds)\u001b[0m\n\u001b[1;32m    875\u001b[0m \u001b[38;5;28mself\u001b[39m\u001b[38;5;241m.\u001b[39m_lock\u001b[38;5;241m.\u001b[39mrelease()\n\u001b[1;32m    876\u001b[0m \u001b[38;5;66;03m# In this case we have not created variables on the first call. So we can\u001b[39;00m\n\u001b[1;32m    877\u001b[0m \u001b[38;5;66;03m# run the first trace but we should fail if variables are created.\u001b[39;00m\n\u001b[0;32m--> 878\u001b[0m results \u001b[38;5;241m=\u001b[39m \u001b[43mtracing_compilation\u001b[49m\u001b[38;5;241;43m.\u001b[39;49m\u001b[43mcall_function\u001b[49m\u001b[43m(\u001b[49m\n\u001b[1;32m    879\u001b[0m \u001b[43m    \u001b[49m\u001b[43margs\u001b[49m\u001b[43m,\u001b[49m\u001b[43m \u001b[49m\u001b[43mkwds\u001b[49m\u001b[43m,\u001b[49m\u001b[43m \u001b[49m\u001b[38;5;28;43mself\u001b[39;49m\u001b[38;5;241;43m.\u001b[39;49m\u001b[43m_variable_creation_config\u001b[49m\n\u001b[1;32m    880\u001b[0m \u001b[43m\u001b[49m\u001b[43m)\u001b[49m\n\u001b[1;32m    881\u001b[0m \u001b[38;5;28;01mif\u001b[39;00m \u001b[38;5;28mself\u001b[39m\u001b[38;5;241m.\u001b[39m_created_variables:\n\u001b[1;32m    882\u001b[0m   \u001b[38;5;28;01mraise\u001b[39;00m \u001b[38;5;167;01mValueError\u001b[39;00m(\u001b[38;5;124m\"\u001b[39m\u001b[38;5;124mCreating variables on a non-first call to a function\u001b[39m\u001b[38;5;124m\"\u001b[39m\n\u001b[1;32m    883\u001b[0m                    \u001b[38;5;124m\"\u001b[39m\u001b[38;5;124m decorated with tf.function.\u001b[39m\u001b[38;5;124m\"\u001b[39m)\n",
      "File \u001b[0;32m~/miniconda3/lib/python3.11/site-packages/tensorflow/python/eager/polymorphic_function/tracing_compilation.py:139\u001b[0m, in \u001b[0;36mcall_function\u001b[0;34m(args, kwargs, tracing_options)\u001b[0m\n\u001b[1;32m    137\u001b[0m bound_args \u001b[38;5;241m=\u001b[39m function\u001b[38;5;241m.\u001b[39mfunction_type\u001b[38;5;241m.\u001b[39mbind(\u001b[38;5;241m*\u001b[39margs, \u001b[38;5;241m*\u001b[39m\u001b[38;5;241m*\u001b[39mkwargs)\n\u001b[1;32m    138\u001b[0m flat_inputs \u001b[38;5;241m=\u001b[39m function\u001b[38;5;241m.\u001b[39mfunction_type\u001b[38;5;241m.\u001b[39munpack_inputs(bound_args)\n\u001b[0;32m--> 139\u001b[0m \u001b[38;5;28;01mreturn\u001b[39;00m \u001b[43mfunction\u001b[49m\u001b[38;5;241;43m.\u001b[39;49m\u001b[43m_call_flat\u001b[49m\u001b[43m(\u001b[49m\u001b[43m  \u001b[49m\u001b[38;5;66;43;03m# pylint: disable=protected-access\u001b[39;49;00m\n\u001b[1;32m    140\u001b[0m \u001b[43m    \u001b[49m\u001b[43mflat_inputs\u001b[49m\u001b[43m,\u001b[49m\u001b[43m \u001b[49m\u001b[43mcaptured_inputs\u001b[49m\u001b[38;5;241;43m=\u001b[39;49m\u001b[43mfunction\u001b[49m\u001b[38;5;241;43m.\u001b[39;49m\u001b[43mcaptured_inputs\u001b[49m\n\u001b[1;32m    141\u001b[0m \u001b[43m\u001b[49m\u001b[43m)\u001b[49m\n",
      "File \u001b[0;32m~/miniconda3/lib/python3.11/site-packages/tensorflow/python/eager/polymorphic_function/concrete_function.py:1322\u001b[0m, in \u001b[0;36mConcreteFunction._call_flat\u001b[0;34m(self, tensor_inputs, captured_inputs)\u001b[0m\n\u001b[1;32m   1318\u001b[0m possible_gradient_type \u001b[38;5;241m=\u001b[39m gradients_util\u001b[38;5;241m.\u001b[39mPossibleTapeGradientTypes(args)\n\u001b[1;32m   1319\u001b[0m \u001b[38;5;28;01mif\u001b[39;00m (possible_gradient_type \u001b[38;5;241m==\u001b[39m gradients_util\u001b[38;5;241m.\u001b[39mPOSSIBLE_GRADIENT_TYPES_NONE\n\u001b[1;32m   1320\u001b[0m     \u001b[38;5;129;01mand\u001b[39;00m executing_eagerly):\n\u001b[1;32m   1321\u001b[0m   \u001b[38;5;66;03m# No tape is watching; skip to running the function.\u001b[39;00m\n\u001b[0;32m-> 1322\u001b[0m   \u001b[38;5;28;01mreturn\u001b[39;00m \u001b[38;5;28;43mself\u001b[39;49m\u001b[38;5;241;43m.\u001b[39;49m\u001b[43m_inference_function\u001b[49m\u001b[38;5;241;43m.\u001b[39;49m\u001b[43mcall_preflattened\u001b[49m\u001b[43m(\u001b[49m\u001b[43margs\u001b[49m\u001b[43m)\u001b[49m\n\u001b[1;32m   1323\u001b[0m forward_backward \u001b[38;5;241m=\u001b[39m \u001b[38;5;28mself\u001b[39m\u001b[38;5;241m.\u001b[39m_select_forward_and_backward_functions(\n\u001b[1;32m   1324\u001b[0m     args,\n\u001b[1;32m   1325\u001b[0m     possible_gradient_type,\n\u001b[1;32m   1326\u001b[0m     executing_eagerly)\n\u001b[1;32m   1327\u001b[0m forward_function, args_with_tangents \u001b[38;5;241m=\u001b[39m forward_backward\u001b[38;5;241m.\u001b[39mforward()\n",
      "File \u001b[0;32m~/miniconda3/lib/python3.11/site-packages/tensorflow/python/eager/polymorphic_function/atomic_function.py:216\u001b[0m, in \u001b[0;36mAtomicFunction.call_preflattened\u001b[0;34m(self, args)\u001b[0m\n\u001b[1;32m    214\u001b[0m \u001b[38;5;28;01mdef\u001b[39;00m \u001b[38;5;21mcall_preflattened\u001b[39m(\u001b[38;5;28mself\u001b[39m, args: Sequence[core\u001b[38;5;241m.\u001b[39mTensor]) \u001b[38;5;241m-\u001b[39m\u001b[38;5;241m>\u001b[39m Any:\n\u001b[1;32m    215\u001b[0m \u001b[38;5;250m  \u001b[39m\u001b[38;5;124;03m\"\"\"Calls with flattened tensor inputs and returns the structured output.\"\"\"\u001b[39;00m\n\u001b[0;32m--> 216\u001b[0m   flat_outputs \u001b[38;5;241m=\u001b[39m \u001b[38;5;28;43mself\u001b[39;49m\u001b[38;5;241;43m.\u001b[39;49m\u001b[43mcall_flat\u001b[49m\u001b[43m(\u001b[49m\u001b[38;5;241;43m*\u001b[39;49m\u001b[43margs\u001b[49m\u001b[43m)\u001b[49m\n\u001b[1;32m    217\u001b[0m   \u001b[38;5;28;01mreturn\u001b[39;00m \u001b[38;5;28mself\u001b[39m\u001b[38;5;241m.\u001b[39mfunction_type\u001b[38;5;241m.\u001b[39mpack_output(flat_outputs)\n",
      "File \u001b[0;32m~/miniconda3/lib/python3.11/site-packages/tensorflow/python/eager/polymorphic_function/atomic_function.py:251\u001b[0m, in \u001b[0;36mAtomicFunction.call_flat\u001b[0;34m(self, *args)\u001b[0m\n\u001b[1;32m    249\u001b[0m \u001b[38;5;28;01mwith\u001b[39;00m record\u001b[38;5;241m.\u001b[39mstop_recording():\n\u001b[1;32m    250\u001b[0m   \u001b[38;5;28;01mif\u001b[39;00m \u001b[38;5;28mself\u001b[39m\u001b[38;5;241m.\u001b[39m_bound_context\u001b[38;5;241m.\u001b[39mexecuting_eagerly():\n\u001b[0;32m--> 251\u001b[0m     outputs \u001b[38;5;241m=\u001b[39m \u001b[38;5;28;43mself\u001b[39;49m\u001b[38;5;241;43m.\u001b[39;49m\u001b[43m_bound_context\u001b[49m\u001b[38;5;241;43m.\u001b[39;49m\u001b[43mcall_function\u001b[49m\u001b[43m(\u001b[49m\n\u001b[1;32m    252\u001b[0m \u001b[43m        \u001b[49m\u001b[38;5;28;43mself\u001b[39;49m\u001b[38;5;241;43m.\u001b[39;49m\u001b[43mname\u001b[49m\u001b[43m,\u001b[49m\n\u001b[1;32m    253\u001b[0m \u001b[43m        \u001b[49m\u001b[38;5;28;43mlist\u001b[39;49m\u001b[43m(\u001b[49m\u001b[43margs\u001b[49m\u001b[43m)\u001b[49m\u001b[43m,\u001b[49m\n\u001b[1;32m    254\u001b[0m \u001b[43m        \u001b[49m\u001b[38;5;28;43mlen\u001b[39;49m\u001b[43m(\u001b[49m\u001b[38;5;28;43mself\u001b[39;49m\u001b[38;5;241;43m.\u001b[39;49m\u001b[43mfunction_type\u001b[49m\u001b[38;5;241;43m.\u001b[39;49m\u001b[43mflat_outputs\u001b[49m\u001b[43m)\u001b[49m\u001b[43m,\u001b[49m\n\u001b[1;32m    255\u001b[0m \u001b[43m    \u001b[49m\u001b[43m)\u001b[49m\n\u001b[1;32m    256\u001b[0m   \u001b[38;5;28;01melse\u001b[39;00m:\n\u001b[1;32m    257\u001b[0m     outputs \u001b[38;5;241m=\u001b[39m make_call_op_in_graph(\n\u001b[1;32m    258\u001b[0m         \u001b[38;5;28mself\u001b[39m,\n\u001b[1;32m    259\u001b[0m         \u001b[38;5;28mlist\u001b[39m(args),\n\u001b[1;32m    260\u001b[0m         \u001b[38;5;28mself\u001b[39m\u001b[38;5;241m.\u001b[39m_bound_context\u001b[38;5;241m.\u001b[39mfunction_call_options\u001b[38;5;241m.\u001b[39mas_attrs(),\n\u001b[1;32m    261\u001b[0m     )\n",
      "File \u001b[0;32m~/miniconda3/lib/python3.11/site-packages/tensorflow/python/eager/context.py:1500\u001b[0m, in \u001b[0;36mContext.call_function\u001b[0;34m(self, name, tensor_inputs, num_outputs)\u001b[0m\n\u001b[1;32m   1498\u001b[0m cancellation_context \u001b[38;5;241m=\u001b[39m cancellation\u001b[38;5;241m.\u001b[39mcontext()\n\u001b[1;32m   1499\u001b[0m \u001b[38;5;28;01mif\u001b[39;00m cancellation_context \u001b[38;5;129;01mis\u001b[39;00m \u001b[38;5;28;01mNone\u001b[39;00m:\n\u001b[0;32m-> 1500\u001b[0m   outputs \u001b[38;5;241m=\u001b[39m \u001b[43mexecute\u001b[49m\u001b[38;5;241;43m.\u001b[39;49m\u001b[43mexecute\u001b[49m\u001b[43m(\u001b[49m\n\u001b[1;32m   1501\u001b[0m \u001b[43m      \u001b[49m\u001b[43mname\u001b[49m\u001b[38;5;241;43m.\u001b[39;49m\u001b[43mdecode\u001b[49m\u001b[43m(\u001b[49m\u001b[38;5;124;43m\"\u001b[39;49m\u001b[38;5;124;43mutf-8\u001b[39;49m\u001b[38;5;124;43m\"\u001b[39;49m\u001b[43m)\u001b[49m\u001b[43m,\u001b[49m\n\u001b[1;32m   1502\u001b[0m \u001b[43m      \u001b[49m\u001b[43mnum_outputs\u001b[49m\u001b[38;5;241;43m=\u001b[39;49m\u001b[43mnum_outputs\u001b[49m\u001b[43m,\u001b[49m\n\u001b[1;32m   1503\u001b[0m \u001b[43m      \u001b[49m\u001b[43minputs\u001b[49m\u001b[38;5;241;43m=\u001b[39;49m\u001b[43mtensor_inputs\u001b[49m\u001b[43m,\u001b[49m\n\u001b[1;32m   1504\u001b[0m \u001b[43m      \u001b[49m\u001b[43mattrs\u001b[49m\u001b[38;5;241;43m=\u001b[39;49m\u001b[43mattrs\u001b[49m\u001b[43m,\u001b[49m\n\u001b[1;32m   1505\u001b[0m \u001b[43m      \u001b[49m\u001b[43mctx\u001b[49m\u001b[38;5;241;43m=\u001b[39;49m\u001b[38;5;28;43mself\u001b[39;49m\u001b[43m,\u001b[49m\n\u001b[1;32m   1506\u001b[0m \u001b[43m  \u001b[49m\u001b[43m)\u001b[49m\n\u001b[1;32m   1507\u001b[0m \u001b[38;5;28;01melse\u001b[39;00m:\n\u001b[1;32m   1508\u001b[0m   outputs \u001b[38;5;241m=\u001b[39m execute\u001b[38;5;241m.\u001b[39mexecute_with_cancellation(\n\u001b[1;32m   1509\u001b[0m       name\u001b[38;5;241m.\u001b[39mdecode(\u001b[38;5;124m\"\u001b[39m\u001b[38;5;124mutf-8\u001b[39m\u001b[38;5;124m\"\u001b[39m),\n\u001b[1;32m   1510\u001b[0m       num_outputs\u001b[38;5;241m=\u001b[39mnum_outputs,\n\u001b[0;32m   (...)\u001b[0m\n\u001b[1;32m   1514\u001b[0m       cancellation_manager\u001b[38;5;241m=\u001b[39mcancellation_context,\n\u001b[1;32m   1515\u001b[0m   )\n",
      "File \u001b[0;32m~/miniconda3/lib/python3.11/site-packages/tensorflow/python/eager/execute.py:53\u001b[0m, in \u001b[0;36mquick_execute\u001b[0;34m(op_name, num_outputs, inputs, attrs, ctx, name)\u001b[0m\n\u001b[1;32m     51\u001b[0m \u001b[38;5;28;01mtry\u001b[39;00m:\n\u001b[1;32m     52\u001b[0m   ctx\u001b[38;5;241m.\u001b[39mensure_initialized()\n\u001b[0;32m---> 53\u001b[0m   tensors \u001b[38;5;241m=\u001b[39m \u001b[43mpywrap_tfe\u001b[49m\u001b[38;5;241;43m.\u001b[39;49m\u001b[43mTFE_Py_Execute\u001b[49m\u001b[43m(\u001b[49m\u001b[43mctx\u001b[49m\u001b[38;5;241;43m.\u001b[39;49m\u001b[43m_handle\u001b[49m\u001b[43m,\u001b[49m\u001b[43m \u001b[49m\u001b[43mdevice_name\u001b[49m\u001b[43m,\u001b[49m\u001b[43m \u001b[49m\u001b[43mop_name\u001b[49m\u001b[43m,\u001b[49m\n\u001b[1;32m     54\u001b[0m \u001b[43m                                      \u001b[49m\u001b[43minputs\u001b[49m\u001b[43m,\u001b[49m\u001b[43m \u001b[49m\u001b[43mattrs\u001b[49m\u001b[43m,\u001b[49m\u001b[43m \u001b[49m\u001b[43mnum_outputs\u001b[49m\u001b[43m)\u001b[49m\n\u001b[1;32m     55\u001b[0m \u001b[38;5;28;01mexcept\u001b[39;00m core\u001b[38;5;241m.\u001b[39m_NotOkStatusException \u001b[38;5;28;01mas\u001b[39;00m e:\n\u001b[1;32m     56\u001b[0m   \u001b[38;5;28;01mif\u001b[39;00m name \u001b[38;5;129;01mis\u001b[39;00m \u001b[38;5;129;01mnot\u001b[39;00m \u001b[38;5;28;01mNone\u001b[39;00m:\n",
      "\u001b[0;31mKeyboardInterrupt\u001b[0m: "
     ]
    }
   ],
   "source": [
    "history = model.fit(\n",
    "    train_ds.repeat(), \n",
    "    epochs=100,\n",
    "    steps_per_epoch = 100,\n",
    "    validation_data=val_ds,\n",
    "    validation_steps = 20,\n",
    "    callbacks=[\n",
    "        tf.keras.callbacks.EarlyStopping(patience=3)])"
   ]
  },
  {
   "cell_type": "code",
   "execution_count": null,
   "metadata": {
    "id": "38rLdlmtQHCm"
   },
   "outputs": [],
   "source": [
    "plt.plot(history.history['loss'], label='loss')\n",
    "plt.plot(history.history['val_loss'], label='val_loss')\n",
    "plt.ylim([0, max(plt.ylim())])\n",
    "plt.xlabel('Epoch #')\n",
    "plt.ylabel('CE/token')\n",
    "plt.legend()"
   ]
  },
  {
   "cell_type": "code",
   "execution_count": null,
   "metadata": {
    "id": "KkhXRASNG80_"
   },
   "outputs": [],
   "source": [
    "plt.plot(history.history['masked_acc'], label='accuracy')\n",
    "plt.plot(history.history['val_masked_acc'], label='val_accuracy')\n",
    "plt.ylim([0, max(plt.ylim())])\n",
    "plt.xlabel('Epoch #')\n",
    "plt.ylabel('CE/token')\n",
    "plt.legend()"
   ]
  },
  {
   "cell_type": "markdown",
   "metadata": {
    "id": "mU3Ce8M6I3rz"
   },
   "source": [
    "### Translate\n",
    "\n",
    "Now that the model is trained, implement a function to execute the full `text => text` translation. This code is basically identical to the [inference example](#inference) in the [decoder section](#the_decoder), but this also captures the attention weights."
   ]
  },
  {
   "cell_type": "code",
   "execution_count": 100,
   "metadata": {
    "id": "mmgYPCVgEwp_"
   },
   "outputs": [],
   "source": [
    "#@title\n",
    "@Translator.add_method\n",
    "def translate(self,\n",
    "              texts, *,\n",
    "              max_length=50,\n",
    "              temperature=0.0):\n",
    "  # Process the input texts\n",
    "  context = self.encoder.convert_input(texts)\n",
    "  batch_size = tf.shape(texts)[0]\n",
    "\n",
    "  # Setup the loop inputs\n",
    "  tokens = []\n",
    "  attention_weights = []\n",
    "  next_token, done, state = self.decoder.get_initial_state(context)\n",
    "\n",
    "  for _ in range(max_length):\n",
    "    # Generate the next token\n",
    "    next_token, done, state = self.decoder.get_next_token(\n",
    "        context, next_token, done,  state, temperature)\n",
    "        \n",
    "    # Collect the generated tokens\n",
    "    tokens.append(next_token)\n",
    "    attention_weights.append(self.decoder.last_attention_weights)\n",
    "    \n",
    "    if tf.executing_eagerly() and tf.reduce_all(done):\n",
    "      break\n",
    "\n",
    "  # Stack the lists of tokens and attention weights.\n",
    "  tokens = tf.concat(tokens, axis=-1)   # t*[(batch 1)] -> (batch, t)\n",
    "  self.last_attention_weights = tf.concat(attention_weights, axis=1)  # t*[(batch 1 s)] -> (batch, t s)\n",
    "\n",
    "  result = self.decoder.tokens_to_text(tokens)\n",
    "  return result"
   ]
  },
  {
   "cell_type": "markdown",
   "metadata": {
    "id": "U4XufRntbbva"
   },
   "source": [
    "Here are the two helper methods, used above, to convert tokens to text, and to get the next token:"
   ]
  },
  {
   "cell_type": "code",
   "execution_count": 110,
   "metadata": {
    "id": "E5hqvbR5FUCD"
   },
   "outputs": [
    {
     "name": "stderr",
     "output_type": "stream",
     "text": [
      "/Users/danielchan/miniconda3/lib/python3.11/site-packages/keras/src/layers/layer.py:915: UserWarning: Layer 'query' (of type EinsumDense) was passed an input with a mask attached to it. However, this layer does not support masking and will therefore destroy the mask information. Downstream layers will not see the mask.\n",
      "  warnings.warn(\n",
      "/Users/danielchan/miniconda3/lib/python3.11/site-packages/keras/src/layers/layer.py:915: UserWarning: Layer 'key' (of type EinsumDense) was passed an input with a mask attached to it. However, this layer does not support masking and will therefore destroy the mask information. Downstream layers will not see the mask.\n",
      "  warnings.warn(\n",
      "/Users/danielchan/miniconda3/lib/python3.11/site-packages/keras/src/layers/layer.py:915: UserWarning: Layer 'value' (of type EinsumDense) was passed an input with a mask attached to it. However, this layer does not support masking and will therefore destroy the mask information. Downstream layers will not see the mask.\n",
      "  warnings.warn(\n",
      "/Users/danielchan/miniconda3/lib/python3.11/site-packages/keras/src/layers/layer.py:915: UserWarning: Layer 'cross_attention_5' (of type CrossAttention) was passed an input with a mask attached to it. However, this layer does not support masking and will therefore destroy the mask information. Downstream layers will not see the mask.\n",
      "  warnings.warn(\n",
      "/Users/danielchan/miniconda3/lib/python3.11/site-packages/keras/src/layers/layer.py:915: UserWarning: Layer 'decoder_3' (of type Decoder) was passed an input with a mask attached to it. However, this layer does not support masking and will therefore destroy the mask information. Downstream layers will not see the mask.\n",
      "  warnings.warn(\n"
     ]
    },
    {
     "data": {
      "text/plain": [
       "'の と び で す か '"
      ]
     },
     "execution_count": 110,
     "metadata": {},
     "output_type": "execute_result"
    }
   ],
   "source": [
    "result = model.translate(['の人ですか']) # Are you still home\n",
    "result[0].numpy().decode()"
   ]
  },
  {
   "cell_type": "markdown",
   "metadata": {
    "id": "wQ1iU63cVgfs"
   },
   "source": [
    "Use that to generate the attention plot:"
   ]
  },
  {
   "cell_type": "code",
   "execution_count": 105,
   "metadata": {
    "id": "s5hQWlbN3jGF"
   },
   "outputs": [],
   "source": [
    "#@title\n",
    "@Translator.add_method\n",
    "def plot_attention(self, text, **kwargs):\n",
    "  assert isinstance(text, str)\n",
    "  output = self.translate([text], **kwargs)\n",
    "  output = output[0].numpy().decode()\n",
    "\n",
    "  attention = self.last_attention_weights[0]\n",
    "\n",
    "  context = tf_lower_and_split_punct(text)\n",
    "  context = context.numpy().decode().split()\n",
    "\n",
    "  output = tf_lower_and_split_punct(output)\n",
    "  output = output.numpy().decode().split()[1:]\n",
    "\n",
    "  fig = plt.figure(figsize=(10, 10))\n",
    "  ax = fig.add_subplot(1, 1, 1)\n",
    "\n",
    "  ax.matshow(attention, cmap='viridis', vmin=0.0)\n",
    "\n",
    "  fontdict = {'fontsize': 14}\n",
    "\n",
    "  ax.set_xticklabels([''] + context, fontdict=fontdict, rotation=90)\n",
    "  ax.set_yticklabels([''] + output, fontdict=fontdict)\n",
    "\n",
    "  ax.xaxis.set_major_locator(ticker.MultipleLocator(1))\n",
    "  ax.yaxis.set_major_locator(ticker.MultipleLocator(1))\n",
    "\n",
    "  ax.set_xlabel('Input text')\n",
    "  ax.set_ylabel('Output text')"
   ]
  },
  {
   "cell_type": "code",
   "execution_count": 109,
   "metadata": {
    "id": "rrGawQv2eiA4"
   },
   "outputs": [
    {
     "name": "stderr",
     "output_type": "stream",
     "text": [
      "/Users/danielchan/miniconda3/lib/python3.11/site-packages/keras/src/layers/layer.py:915: UserWarning: Layer 'query' (of type EinsumDense) was passed an input with a mask attached to it. However, this layer does not support masking and will therefore destroy the mask information. Downstream layers will not see the mask.\n",
      "  warnings.warn(\n",
      "/Users/danielchan/miniconda3/lib/python3.11/site-packages/keras/src/layers/layer.py:915: UserWarning: Layer 'key' (of type EinsumDense) was passed an input with a mask attached to it. However, this layer does not support masking and will therefore destroy the mask information. Downstream layers will not see the mask.\n",
      "  warnings.warn(\n",
      "/Users/danielchan/miniconda3/lib/python3.11/site-packages/keras/src/layers/layer.py:915: UserWarning: Layer 'value' (of type EinsumDense) was passed an input with a mask attached to it. However, this layer does not support masking and will therefore destroy the mask information. Downstream layers will not see the mask.\n",
      "  warnings.warn(\n",
      "/Users/danielchan/miniconda3/lib/python3.11/site-packages/keras/src/layers/layer.py:915: UserWarning: Layer 'cross_attention_5' (of type CrossAttention) was passed an input with a mask attached to it. However, this layer does not support masking and will therefore destroy the mask information. Downstream layers will not see the mask.\n",
      "  warnings.warn(\n",
      "/Users/danielchan/miniconda3/lib/python3.11/site-packages/keras/src/layers/layer.py:915: UserWarning: Layer 'decoder_3' (of type Decoder) was passed an input with a mask attached to it. However, this layer does not support masking and will therefore destroy the mask information. Downstream layers will not see the mask.\n",
      "  warnings.warn(\n",
      "/var/folders/pq/sl3k6ld12gqbtw479x2nv_r00000gn/T/ipykernel_67527/3355722706.py:23: UserWarning: set_ticklabels() should only be used with a fixed number of ticks, i.e. after set_ticks() or using a FixedLocator.\n",
      "  ax.set_xticklabels([''] + context, fontdict=fontdict, rotation=90)\n",
      "/var/folders/pq/sl3k6ld12gqbtw479x2nv_r00000gn/T/ipykernel_67527/3355722706.py:24: UserWarning: set_ticklabels() should only be used with a fixed number of ticks, i.e. after set_ticks() or using a FixedLocator.\n",
      "  ax.set_yticklabels([''] + output, fontdict=fontdict)\n",
      "/Users/danielchan/miniconda3/lib/python3.11/site-packages/IPython/core/events.py:93: UserWarning: Glyph 35504 (\\N{CJK UNIFIED IDEOGRAPH-8AB0}) missing from font(s) DejaVu Sans.\n",
      "  func(*args, **kwargs)\n",
      "/Users/danielchan/miniconda3/lib/python3.11/site-packages/IPython/core/events.py:93: UserWarning: Glyph 12391 (\\N{HIRAGANA LETTER DE}) missing from font(s) DejaVu Sans.\n",
      "  func(*args, **kwargs)\n",
      "/Users/danielchan/miniconda3/lib/python3.11/site-packages/IPython/core/events.py:93: UserWarning: Glyph 12377 (\\N{HIRAGANA LETTER SU}) missing from font(s) DejaVu Sans.\n",
      "  func(*args, **kwargs)\n",
      "/Users/danielchan/miniconda3/lib/python3.11/site-packages/IPython/core/events.py:93: UserWarning: Glyph 12363 (\\N{HIRAGANA LETTER KA}) missing from font(s) DejaVu Sans.\n",
      "  func(*args, **kwargs)\n",
      "/Users/danielchan/miniconda3/lib/python3.11/site-packages/IPython/core/events.py:93: UserWarning: Glyph 12384 (\\N{HIRAGANA LETTER DA}) missing from font(s) DejaVu Sans.\n",
      "  func(*args, **kwargs)\n",
      "/Users/danielchan/miniconda3/lib/python3.11/site-packages/IPython/core/events.py:93: UserWarning: Glyph 12428 (\\N{HIRAGANA LETTER RE}) missing from font(s) DejaVu Sans.\n",
      "  func(*args, **kwargs)\n",
      "/Users/danielchan/miniconda3/lib/python3.11/site-packages/IPython/core/pylabtools.py:152: UserWarning: Glyph 35504 (\\N{CJK UNIFIED IDEOGRAPH-8AB0}) missing from font(s) DejaVu Sans.\n",
      "  fig.canvas.print_figure(bytes_io, **kw)\n",
      "/Users/danielchan/miniconda3/lib/python3.11/site-packages/IPython/core/pylabtools.py:152: UserWarning: Glyph 12391 (\\N{HIRAGANA LETTER DE}) missing from font(s) DejaVu Sans.\n",
      "  fig.canvas.print_figure(bytes_io, **kw)\n",
      "/Users/danielchan/miniconda3/lib/python3.11/site-packages/IPython/core/pylabtools.py:152: UserWarning: Glyph 12377 (\\N{HIRAGANA LETTER SU}) missing from font(s) DejaVu Sans.\n",
      "  fig.canvas.print_figure(bytes_io, **kw)\n",
      "/Users/danielchan/miniconda3/lib/python3.11/site-packages/IPython/core/pylabtools.py:152: UserWarning: Glyph 12363 (\\N{HIRAGANA LETTER KA}) missing from font(s) DejaVu Sans.\n",
      "  fig.canvas.print_figure(bytes_io, **kw)\n",
      "/Users/danielchan/miniconda3/lib/python3.11/site-packages/IPython/core/pylabtools.py:152: UserWarning: Glyph 12384 (\\N{HIRAGANA LETTER DA}) missing from font(s) DejaVu Sans.\n",
      "  fig.canvas.print_figure(bytes_io, **kw)\n",
      "/Users/danielchan/miniconda3/lib/python3.11/site-packages/IPython/core/pylabtools.py:152: UserWarning: Glyph 12428 (\\N{HIRAGANA LETTER RE}) missing from font(s) DejaVu Sans.\n",
      "  fig.canvas.print_figure(bytes_io, **kw)\n"
     ]
    },
    {
     "data": {
      "image/png": "[encoded data removed]",
      "text/plain": [
       "<Figure size 1000x1000 with 1 Axes>"
      ]
     },
     "metadata": {},
     "output_type": "display_data"
    }
   ],
   "source": [
    "model.plot_attention('誰ですか') # Are you still home"
   ]
  },
  {
   "cell_type": "markdown",
   "metadata": {
    "id": "JHBdOf9duumm"
   },
   "source": [
    "Translate a few more sentences and plot them:"
   ]
  },
  {
   "cell_type": "code",
   "execution_count": null,
   "metadata": {
    "id": "flT0VlQZK11s"
   },
   "outputs": [],
   "source": [
    "%%time\n",
    "# This is my life.\n",
    "model.plot_attention('Esta es mi vida.')"
   ]
  },
  {
   "cell_type": "code",
   "execution_count": null,
   "metadata": {
    "id": "t-fPYP_9K8xa"
   },
   "outputs": [],
   "source": [
    "%%time\n",
    " # Try to find out.'\n",
    "model.plot_attention('Tratar de descubrir.')"
   ]
  },
  {
   "cell_type": "markdown",
   "metadata": {
    "id": "rA3xI3NzrRJt"
   },
   "source": [
    "The short sentences often work well, but if the input is too long the model literally loses focus and stops providing reasonable predictions. There are two main reasons for this:\n",
    "\n",
    "1. The model was trained with teacher-forcing feeding the correct token at each step, regardless of the model's predictions. The model could be made more robust if it were sometimes fed its own predictions.\n",
    "2. The model only has access to its previous output through the RNN state. If the RNN state looses track of where it was in the context sequence there's no way for the model to recover. [Transformers](transformer.ipynb) improve on this by letting the decoder look at what it has output so far."
   ]
  },
  {
   "cell_type": "markdown",
   "metadata": {
    "id": "Vtz6QBoGWqT2"
   },
   "source": [
    "The raw data is sorted by length, so try translating the longest sequence:"
   ]
  },
  {
   "cell_type": "code",
   "execution_count": null,
   "metadata": {
    "id": "-FUHFLEvSMbG"
   },
   "outputs": [],
   "source": [
    "long_text = context_raw[-1]\n",
    "\n",
    "import textwrap\n",
    "print('Expected output:\\n', '\\n'.join(textwrap.wrap(target_raw[-1])))"
   ]
  },
  {
   "cell_type": "code",
   "execution_count": null,
   "metadata": {
    "id": "lDa_8NaN_RUy"
   },
   "outputs": [],
   "source": [
    "model.plot_attention(long_text)"
   ]
  },
  {
   "cell_type": "markdown",
   "metadata": {
    "id": "PToqG3GiIUPM"
   },
   "source": [
    "The `translate` function works on batches, so if you have multiple texts to translate you can pass them all at once, which is much more efficient than translating them one at a time:"
   ]
  },
  {
   "cell_type": "code",
   "execution_count": null,
   "metadata": {
    "id": "1-FLCjBVEMXL"
   },
   "outputs": [],
   "source": [
    "inputs = [\n",
    "    'Hace mucho frio aqui.', # \"It's really cold here.\"\n",
    "    'Esta es mi vida.', # \"This is my life.\"\n",
    "    'Su cuarto es un desastre.' # \"His room is a mess\"\n",
    "]"
   ]
  },
  {
   "cell_type": "code",
   "execution_count": null,
   "metadata": {
    "id": "sT68i4jYEQ7q"
   },
   "outputs": [],
   "source": [
    "%%time\n",
    "for t in inputs:\n",
    "  print(model.translate([t])[0].numpy().decode())\n",
    "\n",
    "print()"
   ]
  },
  {
   "cell_type": "code",
   "execution_count": null,
   "metadata": {
    "id": "hd2rgyHwVVrv"
   },
   "outputs": [],
   "source": [
    "%%time\n",
    "result = model.translate(inputs)\n",
    "\n",
    "print(result[0].numpy().decode())\n",
    "print(result[1].numpy().decode())\n",
    "print(result[2].numpy().decode())\n",
    "print()"
   ]
  },
  {
   "cell_type": "markdown",
   "metadata": {
    "id": "uvhMqIw26Bwd"
   },
   "source": [
    "So overall this text generation function mostly gets the job done, but so you've only used it here in python with eager execution. Let's try to export it next:"
   ]
  },
  {
   "cell_type": "markdown",
   "metadata": {
    "id": "X4POAuUgLxLv"
   },
   "source": [
    "### Export"
   ]
  },
  {
   "cell_type": "markdown",
   "metadata": {
    "id": "S-6cFyqeUPQm"
   },
   "source": [
    "If you want to export this model you'll need to wrap the `translate` method in a `tf.function`. That implementation will get the job done:\n"
   ]
  },
  {
   "cell_type": "code",
   "execution_count": null,
   "metadata": {
    "id": "fNhGwQaVKIAy"
   },
   "outputs": [],
   "source": [
    "class Export(tf.Module):\n",
    "  def __init__(self, model):\n",
    "    self.model = model\n",
    "\n",
    "  @tf.function(input_signature=[tf.TensorSpec(dtype=tf.string, shape=[None])])\n",
    "  def translate(self, inputs):\n",
    "    return self.model.translate(inputs)"
   ]
  },
  {
   "cell_type": "code",
   "execution_count": null,
   "metadata": {
    "id": "5Tjqs9FzNwW5"
   },
   "outputs": [],
   "source": [
    "export = Export(model)"
   ]
  },
  {
   "cell_type": "markdown",
   "metadata": {
    "id": "fkccvHDvXCa8"
   },
   "source": [
    "Run the `tf.function` once to compile it:"
   ]
  },
  {
   "cell_type": "code",
   "execution_count": null,
   "metadata": {
    "id": "_NzrixLvVBjQ"
   },
   "outputs": [],
   "source": [
    "%%time\n",
    "_ = export.translate(tf.constant(inputs))"
   ]
  },
  {
   "cell_type": "code",
   "execution_count": null,
   "metadata": {
    "id": "USJdu00tVFbd"
   },
   "outputs": [],
   "source": [
    "%%time\n",
    "result = export.translate(tf.constant(inputs))\n",
    "\n",
    "print(result[0].numpy().decode())\n",
    "print(result[1].numpy().decode())\n",
    "print(result[2].numpy().decode())\n",
    "print()"
   ]
  },
  {
   "cell_type": "markdown",
   "metadata": {
    "id": "NP2dNtEXJPEL"
   },
   "source": [
    "Now that the function has been traced it can be exported using `saved_model.save`:"
   ]
  },
  {
   "cell_type": "code",
   "execution_count": null,
   "metadata": {
    "id": "OyvxT5V0_X5B"
   },
   "outputs": [],
   "source": [
    "%%time\n",
    "tf.saved_model.save(export, 'translator',\n",
    "                    signatures={'serving_default': export.translate})"
   ]
  },
  {
   "cell_type": "code",
   "execution_count": null,
   "metadata": {
    "id": "-I0j3i3ekOba"
   },
   "outputs": [],
   "source": [
    "%%time\n",
    "reloaded = tf.saved_model.load('translator')\n",
    "_ = reloaded.translate(tf.constant(inputs)) #warmup"
   ]
  },
  {
   "cell_type": "code",
   "execution_count": null,
   "metadata": {
    "id": "GXZF__FZXJCm"
   },
   "outputs": [],
   "source": [
    "%%time\n",
    "result = reloaded.translate(tf.constant(inputs))\n",
    "\n",
    "print(result[0].numpy().decode())\n",
    "print(result[1].numpy().decode())\n",
    "print(result[2].numpy().decode())\n",
    "print()"
   ]
  },
  {
   "cell_type": "markdown",
   "metadata": {
    "id": "Pgg3P757O5rw"
   },
   "source": [
    "#### [Optional] Use a dynamic loop"
   ]
  },
  {
   "cell_type": "markdown",
   "metadata": {
    "id": "3230LfyRIJQV"
   },
   "source": [
    "It's worth noting that this initial implementation is not optimal. It uses a python loop:\n",
    "\n",
    "```\n",
    "for _ in range(max_length):\n",
    "  ...\n",
    "  if tf.executing_eagerly() and tf.reduce_all(done):\n",
    "    break\n",
    "```\n",
    "\n",
    "The python loop is relatively simple but when `tf.function` converts this to a graph, it **statically unrolls** that loop. Unrolling the loop has two disadvantages:\n",
    "\n",
    "1. It makes `max_length` copies of the loop body. So the generated graphs take longer to build, save and load.\n",
    "1. You have to choose a fixed value for the `max_length`. \n",
    "1. You can't `break` from a statically unrolled loop. The `tf.function`\n",
    "  version will run the full `max_length` iterations on every call.\n",
    "  That's why the `break` only works with eager execution. This is\n",
    "  still marginally faster than eager execution, but not as fast as it could be.\n"
   ]
  },
  {
   "cell_type": "markdown",
   "metadata": {
    "id": "zPRJp4TRJx_n"
   },
   "source": [
    "To fix these shortcomings, the `translate_dynamic` method, below, uses a tensorflow loop:\n",
    "\n",
    "```\n",
    "for t in tf.range(max_length):\n",
    "  ...\n",
    "  if tf.reduce_all(done):\n",
    "      break\n",
    "```\n",
    "\n",
    "It looks like a python loop, but when you use a tensor as the input to a `for` loop (or the condition of a `while` loop) `tf.function` converts it to a dynamic loop using operations like `tf.while_loop`. \n",
    "\n",
    "There's no need for a `max_length` here it's just in case the model gets stuck generating a loop like: `the united states of the united states of the united states...`.\n",
    "\n",
    "On the down side, to accumulate tokens from this dynamic loop you can't just append them to a python `list`, you need to use a `tf.TensorArray`:\n",
    "\n",
    "```\n",
    "tokens = tf.TensorArray(tf.int64, size=1, dynamic_size=True)\n",
    "...\n",
    "for t in tf.range(max_length):\n",
    "    ...\n",
    "    tokens = tokens.write(t, next_token) # next_token shape is (batch, 1)\n",
    "  ...\n",
    "  tokens = tokens.stack()\n",
    "  tokens = einops.rearrange(tokens, 't batch 1 -> batch t')\n",
    "```"
   ]
  },
  {
   "cell_type": "markdown",
   "metadata": {
    "id": "rTmISp4SRo5U"
   },
   "source": [
    "This version of the code can be quite a bit more efficient:"
   ]
  },
  {
   "cell_type": "code",
   "execution_count": null,
   "metadata": {
    "id": "EbQpyYs13jF_"
   },
   "outputs": [],
   "source": [
    "#@title\n",
    "@Translator.add_method\n",
    "def translate(self,\n",
    "              texts,\n",
    "              *,\n",
    "              max_length=500,\n",
    "              temperature=tf.constant(0.0)):\n",
    "  shape_checker = ShapeChecker()\n",
    "  context = self.encoder.convert_input(texts)\n",
    "  batch_size = tf.shape(context)[0]\n",
    "  shape_checker(context, 'batch s units')\n",
    "\n",
    "  next_token, done, state = self.decoder.get_initial_state(context)\n",
    "\n",
    "  # initialize the accumulator\n",
    "  tokens = tf.TensorArray(tf.int64, size=1, dynamic_size=True)\n",
    "\n",
    "  for t in tf.range(max_length):\n",
    "    # Generate the next token\n",
    "    next_token, done, state = self.decoder.get_next_token(\n",
    "        context, next_token, done, state, temperature)\n",
    "    shape_checker(next_token, 'batch t1')\n",
    "\n",
    "    # Collect the generated tokens\n",
    "    tokens = tokens.write(t, next_token)\n",
    "\n",
    "    # if all the sequences are done, break\n",
    "    if tf.reduce_all(done):\n",
    "      break\n",
    "\n",
    "  # Convert the list of generated token ids to a list of strings.\n",
    "  tokens = tokens.stack()\n",
    "  shape_checker(tokens, 't batch t1')\n",
    "  tokens = einops.rearrange(tokens, 't batch 1 -> batch t')\n",
    "  shape_checker(tokens, 'batch t')\n",
    "\n",
    "  text = self.decoder.tokens_to_text(tokens)\n",
    "  shape_checker(text, 'batch')\n",
    "\n",
    "  return text"
   ]
  },
  {
   "cell_type": "markdown",
   "metadata": {
    "id": "AJ_NznOgZTxC"
   },
   "source": [
    "With eager execution this implementation performs on par with the original:"
   ]
  },
  {
   "cell_type": "code",
   "execution_count": null,
   "metadata": {
    "id": "JRh66y-YYeBw"
   },
   "outputs": [],
   "source": [
    "%%time\n",
    "result = model.translate(inputs)\n",
    "\n",
    "print(result[0].numpy().decode())\n",
    "print(result[1].numpy().decode())\n",
    "print(result[2].numpy().decode())\n",
    "print()"
   ]
  },
  {
   "cell_type": "markdown",
   "metadata": {
    "id": "l6B8W4_MZdX0"
   },
   "source": [
    "But when you wrap it in a `tf.function` you'll notice two differences."
   ]
  },
  {
   "cell_type": "code",
   "execution_count": null,
   "metadata": {
    "id": "EQlrhWWrUhgT"
   },
   "outputs": [],
   "source": [
    "class Export(tf.Module):\n",
    "  def __init__(self, model):\n",
    "    self.model = model\n",
    "\n",
    "  @tf.function(input_signature=[tf.TensorSpec(dtype=tf.string, shape=[None])])\n",
    "  def translate(self, inputs):\n",
    "    return self.model.translate(inputs)"
   ]
  },
  {
   "cell_type": "code",
   "execution_count": null,
   "metadata": {
    "id": "pH8yyGHvUmti"
   },
   "outputs": [],
   "source": [
    "export = Export(model)"
   ]
  },
  {
   "cell_type": "markdown",
   "metadata": {
    "id": "ZnOJvIsvUwBL"
   },
   "source": [
    "First, it's much quicker to trace, since it only creates one copy of the loop body:"
   ]
  },
  {
   "cell_type": "code",
   "execution_count": null,
   "metadata": {
    "id": "_CaEbHkwEa1S"
   },
   "outputs": [],
   "source": [
    "%%time\n",
    "_ = export.translate(inputs)"
   ]
  },
  {
   "cell_type": "markdown",
   "metadata": {
    "id": "2ABEwtKIZ6eE"
   },
   "source": [
    "The `tf.function` is much faster than running with eager execution, and on small inputs it's often several times faster than the unrolled version, because it can break out of the loop."
   ]
  },
  {
   "cell_type": "code",
   "execution_count": null,
   "metadata": {
    "id": "d5VdCLxPYrpz"
   },
   "outputs": [],
   "source": [
    "%%time\n",
    "result = export.translate(inputs)\n",
    "\n",
    "print(result[0].numpy().decode())\n",
    "print(result[1].numpy().decode())\n",
    "print(result[2].numpy().decode())\n",
    "print()"
   ]
  },
  {
   "cell_type": "markdown",
   "metadata": {
    "id": "3DDmofICJdx0"
   },
   "source": [
    "So save this version as well:"
   ]
  },
  {
   "cell_type": "code",
   "execution_count": null,
   "metadata": {
    "id": "eCg7kRq6FVl3"
   },
   "outputs": [],
   "source": [
    "%%time\n",
    "tf.saved_model.save(export, 'dynamic_translator',\n",
    "                    signatures={'serving_default': export.translate})"
   ]
  },
  {
   "cell_type": "code",
   "execution_count": null,
   "metadata": {
    "id": "zrpzxL2vFVl3"
   },
   "outputs": [],
   "source": [
    "%%time\n",
    "reloaded = tf.saved_model.load('dynamic_translator')\n",
    "_ = reloaded.translate(tf.constant(inputs)) #warmup"
   ]
  },
  {
   "cell_type": "code",
   "execution_count": null,
   "metadata": {
    "id": "5TjSwrCEFVl3"
   },
   "outputs": [],
   "source": [
    "%%time\n",
    "result = reloaded.translate(tf.constant(inputs))\n",
    "\n",
    "print(result[0].numpy().decode())\n",
    "print(result[1].numpy().decode())\n",
    "print(result[2].numpy().decode())\n",
    "print()"
   ]
  },
  {
   "cell_type": "code",
   "execution_count": null,
   "metadata": {},
   "outputs": [],
   "source": [
    "texts = [\"donde esta la biblioteca\"]\n",
    "input = tf.constant(texts)\n",
    "result = reloaded.translate(input)"
   ]
  },
  {
   "cell_type": "code",
   "execution_count": null,
   "metadata": {},
   "outputs": [],
   "source": [
    "result[0].numpy().decode()"
   ]
  },
  {
   "cell_type": "markdown",
   "metadata": {
    "id": "RTe5P5ioMJwN"
   },
   "source": [
    "## Next steps\n",
    "\n",
    "* [Download a different dataset](http://www.manythings.org/anki/) to experiment with translations, for example, English to German, or English to French.\n",
    "* Experiment with training on a larger dataset, or using more epochs.\n",
    "* Try the [transformer tutorial](transformer.ipynb) which implements a similar translation task but uses transformer layers instead of RNNs. This version also uses a `text.BertTokenizer` to implement word-piece tokenization.\n",
    "* Visit the [`tensorflow_addons.seq2seq` tutorial](https://www.tensorflow.org/addons/tutorials/networks_seq2seq_nmt), which demonstrates a higher-level functionality for implementing this sort of sequence-to-sequence model, such as `seq2seq.BeamSearchDecoder`."
   ]
  }
 ],
 "metadata": {
  "accelerator": "GPU",
  "colab": {
   "collapsed_sections": [],
   "last_runtime": {
    "build_target": "//learning/deepmind/public/tools/ml_python:ml_notebook",
    "kind": "private"
   },
   "name": "nmt_with_attention.ipynb",
   "private_outputs": true,
   "provenance": []
  },
  "kernelspec": {
   "display_name": "Python 3 (ipykernel)",
   "language": "python",
   "name": "python3"
  },
  "language_info": {
   "codemirror_mode": {
    "name": "ipython",
    "version": 3
   },
   "file_extension": ".py",
   "mimetype": "text/x-python",
   "name": "python",
   "nbconvert_exporter": "python",
   "pygments_lexer": "ipython3",
   "version": "3.11.4"
  }
 },
 "nbformat": 4,
 "nbformat_minor": 4
}
