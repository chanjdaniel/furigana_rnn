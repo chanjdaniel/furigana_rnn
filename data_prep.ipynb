{
 "cells": [
  {
   "cell_type": "code",
   "execution_count": 54,
   "id": "b7db7ea2-b6d3-4ca2-b5b4-a456c8c6f2cc",
   "metadata": {},
   "outputs": [],
   "source": [
    "import json\n",
    "from typing import Any, Tuple\n",
    "import pathlib\n",
    "import numpy as np\n",
    "import re\n",
    "import random"
   ]
  },
  {
   "cell_type": "code",
   "execution_count": 15,
   "id": "15873eea-d715-45e9-bb63-4e5299d4c333",
   "metadata": {},
   "outputs": [],
   "source": [
    "def containsJapanese(text):\n",
    "    re_kanji = re.compile(r'[\\u3000-\\u303f\\u3040-\\u309f\\u30a0-\\u30ff\\uff00-\\uff9f\\u4e00-\\u9faf\\u3400-\\u4dbf]')\n",
    "    return re_kanji.search(text) is not None;\n",
    "\n",
    "def containsKanji(text):\n",
    "    re_kanji = re.compile(r'[\\u4e00-\\u9faf\\u3400-\\u4dbf]')\n",
    "    return re_kanji.search(text) is not None;\n",
    "\n",
    "def containsHiragana(text):\n",
    "    re_hiragana = re.compile(r'[\\u3040-\\u309f]')\n",
    "    return re_hiragana.search(text) is not None;\n",
    "\n",
    "def get_state(text):\n",
    "    if containsKanji(text):\n",
    "        return 'kanji'\n",
    "    elif containsHiragana(text):\n",
    "        return 'hiragana'\n",
    "    else:\n",
    "        return 'other'\n",
    "\n",
    "def insert_spaces(text):\n",
    "    result = \"\"\n",
    "    state = get_state(text[0])\n",
    "    i = 0\n",
    "    length = len(text)\n",
    "    while i < length:\n",
    "        if state != get_state(text[i]):\n",
    "            state = get_state(text[i])\n",
    "            result += ' '\n",
    "        result += text[i]\n",
    "        i += 1\n",
    "    return result"
   ]
  },
  {
   "cell_type": "code",
   "execution_count": 4,
   "id": "6fc577d1-9fa3-43e3-8a30-6e9a25519c65",
   "metadata": {},
   "outputs": [],
   "source": [
    "with open('JMdict_e.json') as f:\n",
    "    raw_data = json.load(f)"
   ]
  },
  {
   "cell_type": "code",
   "execution_count": 5,
   "id": "864b23fc-1e5f-4a95-923b-719240edba4e",
   "metadata": {},
   "outputs": [
    {
     "data": {
      "text/plain": [
       "209106"
      ]
     },
     "execution_count": 5,
     "metadata": {},
     "output_type": "execute_result"
    }
   ],
   "source": [
    "len(raw_data)"
   ]
  },
  {
   "cell_type": "code",
   "execution_count": 6,
   "id": "a43ab7e1-63a2-42a3-a7e3-7baaa57c340e",
   "metadata": {},
   "outputs": [],
   "source": [
    "filtered_data = [entry for entry in raw_data if 'k_ele' in entry.keys()]"
   ]
  },
  {
   "cell_type": "code",
   "execution_count": 7,
   "id": "98344d49-b03f-4327-8bf9-15c91ebe4d8f",
   "metadata": {},
   "outputs": [
    {
     "data": {
      "text/plain": [
       "168741"
      ]
     },
     "execution_count": 7,
     "metadata": {},
     "output_type": "execute_result"
    }
   ],
   "source": [
    "len(filtered_data)"
   ]
  },
  {
   "cell_type": "code",
   "execution_count": 8,
   "id": "2b7894e0-e100-444d-8255-c65ee7f6fc0c",
   "metadata": {},
   "outputs": [
    {
     "data": {
      "text/plain": [
       "{'ent_seq': ['1000260'],\n",
       " 'k_ele': [{'keb': ['悪どい'], 'ke_inf': ['&ateji;']},\n",
       "  {'keb': ['灰汁どい'], 'ke_inf': ['&rK;']}],\n",
       " 'r_ele': [{'reb': ['あくどい']}],\n",
       " 'sense': [{'pos': ['&adj-i;'],\n",
       "   'xref': ['あくが強い・2'],\n",
       "   'misc': ['&uk;'],\n",
       "   'gloss': ['gaudy', 'showy', 'garish', 'loud']},\n",
       "  {'pos': ['&adj-i;'],\n",
       "   'misc': ['&uk;'],\n",
       "   'gloss': ['crooked',\n",
       "    'vicious',\n",
       "    'wicked',\n",
       "    'nasty',\n",
       "    'unscrupulous',\n",
       "    'dishonest']}]}"
      ]
     },
     "execution_count": 8,
     "metadata": {},
     "output_type": "execute_result"
    }
   ],
   "source": [
    "filtered_data[14]"
   ]
  },
  {
   "cell_type": "code",
   "execution_count": 22,
   "id": "1120d5c2-5072-462b-a25f-d7f3993afcf2",
   "metadata": {},
   "outputs": [],
   "source": [
    "dict = []\n",
    "for entry in filtered_data:\n",
    "    for k in entry['k_ele']:\n",
    "        for r in entry['r_ele']:\n",
    "            kanji = k['keb'][0]\n",
    "            ruby = r['reb'][0]\n",
    "            dict.append((kanji, ruby))"
   ]
  },
  {
   "cell_type": "code",
   "execution_count": 23,
   "id": "6899383d-1c0f-4886-be09-8afc6e01a396",
   "metadata": {},
   "outputs": [
    {
     "data": {
      "text/plain": [
       "246863"
      ]
     },
     "execution_count": 23,
     "metadata": {},
     "output_type": "execute_result"
    }
   ],
   "source": [
    "len(dict)"
   ]
  },
  {
   "cell_type": "code",
   "execution_count": 105,
   "id": "82ae6bf7-b890-4b79-a306-b987df3c8eaa",
   "metadata": {},
   "outputs": [],
   "source": [
    "sample_size = 500000\n",
    "sample_length_mean = 30\n",
    "sample_length_sd = 5\n",
    "sample_n_array = np.round(np.random.normal(loc=sample_length_mean, scale=sample_length_sd, size=sample_size)).astype(int)"
   ]
  },
  {
   "cell_type": "code",
   "execution_count": 114,
   "id": "1bf77192-3325-43ff-bc80-8df1cdbe0d71",
   "metadata": {},
   "outputs": [],
   "source": [
    "data = []\n",
    "connectors = ['は','が','な','の','を','か','も','に','で','へ','と','や','から','まで','ね','よ']\n",
    "for sample_n in sample_n_array:\n",
    "    context_sample_array = []\n",
    "    target_sample_array = []\n",
    "    rand_connector_idx = random.randint(0, len(connectors) - 1)\n",
    "    context_sample_array.append(connectors[rand_connector_idx])\n",
    "    target_sample_array.append(connectors[rand_connector_idx])\n",
    "    for i in range(sample_n.item()):\n",
    "        rand_dict_idx = random.randint(0, len(dict) - 1)\n",
    "        rand_connector_idx = random.randint(0, len(connectors) - 1)\n",
    "        context_sample_array.append(dict[rand_dict_idx][0])\n",
    "        target_sample_array.append(dict[rand_dict_idx][1])\n",
    "        context_sample_array.append(connectors[rand_connector_idx])\n",
    "        target_sample_array.append(connectors[rand_connector_idx])\n",
    "    context_sample = ''.join(context_sample_array)\n",
    "    target_sample = ''.join(target_sample_array)\n",
    "    data.append(''.join(context_sample) + '|' + ''.join(target_sample) + '\\n')"
   ]
  },
  {
   "cell_type": "code",
   "execution_count": 115,
   "id": "c0c6051a-10b5-4e18-8d86-1085d057fdea",
   "metadata": {},
   "outputs": [
    {
     "data": {
      "text/plain": [
       "'は荷が重いね徴税吏を大腸炎や薺な保障付ね生活態度の複素環基も確認要で格好をつけると被裏書人か紅色球形形象物よ合成石油は商売仲間は大作へ有界ね貝おおいよせせり箸までかぎ鼻へ釣果から高張り提灯から|はにがおもいねちょうぜいりをだいちょうえんやなずななほしょうつきねせいかつたいどのふくそかんきもかくにんようでかっこをつけるとひうらがきにんかべにいろきゅうけいけいしょうぶつよごうせいせきゆはしょうばいなかまはたいさくへゆうかいねかいおいよせせりばしまでかぎばなへちょうかからたかはりぢょうちんから\\n'"
      ]
     },
     "execution_count": 115,
     "metadata": {},
     "output_type": "execute_result"
    }
   ],
   "source": [
    "data[0]"
   ]
  },
  {
   "cell_type": "code",
   "execution_count": 116,
   "id": "ed18947a-52f3-416f-ab40-73dd1cf9c25c",
   "metadata": {},
   "outputs": [],
   "source": [
    "local_path = 'furigana_training_data.txt'\n",
    "output = open(local_path, 'w')\n",
    "output.writelines(data)\n",
    "output.close()"
   ]
  },
  {
   "cell_type": "code",
   "execution_count": 71,
   "id": "297c5730-8210-425d-9498-464b0836f456",
   "metadata": {},
   "outputs": [],
   "source": [
    "def load_data(path):\n",
    "    text = path.read_text(encoding='utf-8')\n",
    "    \n",
    "    lines = text.splitlines()\n",
    "    pairs = [line.split('|') for line in lines]\n",
    "    \n",
    "    context = np.array([context for target, context in pairs])\n",
    "    target = np.array([target for target, context in pairs])\n",
    "    \n",
    "    return target, context"
   ]
  },
  {
   "cell_type": "code",
   "execution_count": 74,
   "id": "675a91e3-5856-41fe-83fd-686800173626",
   "metadata": {},
   "outputs": [
    {
     "name": "stdout",
     "output_type": "stream",
     "text": [
      "〃|おなじ\n"
     ]
    }
   ],
   "source": [
    "path_to_file = pathlib.Path(local_path)\n",
    "context, target = load_data(path_to_file)"
   ]
  },
  {
   "cell_type": "code",
   "execution_count": 75,
   "id": "f7091fe2-cdab-4ca4-81a8-5927fd628e42",
   "metadata": {},
   "outputs": [
    {
     "data": {
      "text/plain": [
       "'〃'"
      ]
     },
     "execution_count": 75,
     "metadata": {},
     "output_type": "execute_result"
    }
   ],
   "source": []
  }
 ],
 "metadata": {
  "kernelspec": {
   "display_name": "Python 3 (ipykernel)",
   "language": "python",
   "name": "python3"
  },
  "language_info": {
   "codemirror_mode": {
    "name": "ipython",
    "version": 3
   },
   "file_extension": ".py",
   "mimetype": "text/x-python",
   "name": "python",
   "nbconvert_exporter": "python",
   "pygments_lexer": "ipython3",
   "version": "3.11.4"
  }
 },
 "nbformat": 4,
 "nbformat_minor": 5
}
